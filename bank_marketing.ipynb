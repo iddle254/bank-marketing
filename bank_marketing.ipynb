{
 "cells": [
  {
   "cell_type": "markdown",
   "metadata": {},
   "source": [
    "# Bank marketing dataset\n",
    "The data is related with direct marketing campaigns (phone calls) of a Portuguese banking institution.\n",
    "The classification goal is to predict if the client will subscribe a term deposit. The actual\n",
    "dataset comprises of 4 sets:\n",
    "There are four datasets:\n",
    "1. bank-additional-full.csv with all examples (41188) and 20 inputs, ordered by date (from May 2008 to November 2010), very close to the data analyzed in [Moro et al., 2014]\n",
    "2. bank-additional.csv with 10% of the examples (4119), randomly selected from 1), and 20 inputs.\n",
    "3. bank-full.csv with all examples and 17 inputs, ordered by date (older version of this dataset with less inputs).\n",
    "4. bank.csv with 10% of the examples and 17 inputs, randomly selected from 3 (older version of this dataset with less inputs).\n",
    "\n",
    "Nb\n",
    "1. Avoid using the attribute in your model building -  duration: last contact duration.\n",
    "2. use four different Machine Learning Algorithms (K-NN, SVM, Neural Networks, and Decision Tree) to classify the dataset.\n",
    "3. Use 10 fold cross-validation for your evaluation.\n",
    "\n",
    "Link to the data: https://archive.ics.uci.edu/ml/datasets/Bank+Marketing"
   ]
  },
  {
   "cell_type": "markdown",
   "metadata": {},
   "source": [
    "## The task"
   ]
  },
  {
   "cell_type": "markdown",
   "metadata": {},
   "source": [
    "### 1. Undertake some brief exploration about direct marketing campaigns. \n",
    "What 4 things did you find?\n",
    "1. Companies use direct marketing when targeting segments of customers by contacting them to meet a specific goal.\n",
    "2. It is difficult to financially quantify costs, since long term deposits have different amounts, interest rates and subscription periods.\n",
    "3. It is difficult to estimate intrusiveness of an outbound call (e.g., due to a stressful conversation)\n",
    "4. When considering the Euribor rate, a lower Euribor would result in a decline in savings rate since most European banks align\n",
    "their deposits interest rate offers with ECB indexes, particularly with the three month Euribor"
   ]
  },
  {
   "cell_type": "markdown",
   "metadata": {},
   "source": [
    "### 2. Analyze the data closely.\n",
    "What do you see?\n",
    "Characterize the data using your analysis\n",
    "\n",
    "1. The data contradicts what is expected with a lower Euribor corresponding to a higher probability for deposits subscription, and the same probability decreasing along with the increase of the three month Euribor. \n",
    "2. More time already spent on past calls within the same campaign increases probability of success. Similarly, the extracted DT\n",
    "confirms a positive effect of the duration of previous calls. For instance, when the duration is higher or equal than 13 minutes, then the associated global probability of success is 0.3, while the value decreases to 0.05 (25 people difference) if this duration condition is false."
   ]
  },
  {
   "cell_type": "markdown",
   "metadata": {},
   "source": [
    "#### 2.1 getting the dataset ready"
   ]
  },
  {
   "cell_type": "code",
   "execution_count": 1,
   "metadata": {},
   "outputs": [
    {
     "data": {
      "text/html": [
       "<div>\n",
       "<style scoped>\n",
       "    .dataframe tbody tr th:only-of-type {\n",
       "        vertical-align: middle;\n",
       "    }\n",
       "\n",
       "    .dataframe tbody tr th {\n",
       "        vertical-align: top;\n",
       "    }\n",
       "\n",
       "    .dataframe thead th {\n",
       "        text-align: right;\n",
       "    }\n",
       "</style>\n",
       "<table border=\"1\" class=\"dataframe\">\n",
       "  <thead>\n",
       "    <tr style=\"text-align: right;\">\n",
       "      <th></th>\n",
       "      <th>age</th>\n",
       "      <th>job</th>\n",
       "      <th>marital</th>\n",
       "      <th>education</th>\n",
       "      <th>default</th>\n",
       "      <th>housing</th>\n",
       "      <th>loan</th>\n",
       "      <th>contact</th>\n",
       "      <th>month</th>\n",
       "      <th>day_of_week</th>\n",
       "      <th>...</th>\n",
       "      <th>campaign</th>\n",
       "      <th>pdays</th>\n",
       "      <th>previous</th>\n",
       "      <th>poutcome</th>\n",
       "      <th>emp.var.rate</th>\n",
       "      <th>cons.price.idx</th>\n",
       "      <th>cons.conf.idx</th>\n",
       "      <th>euribor3m</th>\n",
       "      <th>nr.employed</th>\n",
       "      <th>y</th>\n",
       "    </tr>\n",
       "  </thead>\n",
       "  <tbody>\n",
       "    <tr>\n",
       "      <th>0</th>\n",
       "      <td>@relation bank-additional-full</td>\n",
       "      <td>NaN</td>\n",
       "      <td>NaN</td>\n",
       "      <td>NaN</td>\n",
       "      <td>NaN</td>\n",
       "      <td>NaN</td>\n",
       "      <td>NaN</td>\n",
       "      <td>NaN</td>\n",
       "      <td>NaN</td>\n",
       "      <td>NaN</td>\n",
       "      <td>...</td>\n",
       "      <td>NaN</td>\n",
       "      <td>NaN</td>\n",
       "      <td>NaN</td>\n",
       "      <td>NaN</td>\n",
       "      <td>NaN</td>\n",
       "      <td>NaN</td>\n",
       "      <td>NaN</td>\n",
       "      <td>NaN</td>\n",
       "      <td>NaN</td>\n",
       "      <td>NaN</td>\n",
       "    </tr>\n",
       "    <tr>\n",
       "      <th>1</th>\n",
       "      <td>@attribute age numeric</td>\n",
       "      <td>NaN</td>\n",
       "      <td>NaN</td>\n",
       "      <td>NaN</td>\n",
       "      <td>NaN</td>\n",
       "      <td>NaN</td>\n",
       "      <td>NaN</td>\n",
       "      <td>NaN</td>\n",
       "      <td>NaN</td>\n",
       "      <td>NaN</td>\n",
       "      <td>...</td>\n",
       "      <td>NaN</td>\n",
       "      <td>NaN</td>\n",
       "      <td>NaN</td>\n",
       "      <td>NaN</td>\n",
       "      <td>NaN</td>\n",
       "      <td>NaN</td>\n",
       "      <td>NaN</td>\n",
       "      <td>NaN</td>\n",
       "      <td>NaN</td>\n",
       "      <td>NaN</td>\n",
       "    </tr>\n",
       "    <tr>\n",
       "      <th>2</th>\n",
       "      <td>@attribute job {housemaid</td>\n",
       "      <td>services</td>\n",
       "      <td>admin.</td>\n",
       "      <td>blue-collar</td>\n",
       "      <td>technician</td>\n",
       "      <td>retired</td>\n",
       "      <td>management</td>\n",
       "      <td>unemployed</td>\n",
       "      <td>self-employed</td>\n",
       "      <td>unknown</td>\n",
       "      <td>...</td>\n",
       "      <td>student}</td>\n",
       "      <td>NaN</td>\n",
       "      <td>NaN</td>\n",
       "      <td>NaN</td>\n",
       "      <td>NaN</td>\n",
       "      <td>NaN</td>\n",
       "      <td>NaN</td>\n",
       "      <td>NaN</td>\n",
       "      <td>NaN</td>\n",
       "      <td>NaN</td>\n",
       "    </tr>\n",
       "    <tr>\n",
       "      <th>3</th>\n",
       "      <td>@attribute marital {married</td>\n",
       "      <td>single</td>\n",
       "      <td>divorced</td>\n",
       "      <td>unknown}</td>\n",
       "      <td>NaN</td>\n",
       "      <td>NaN</td>\n",
       "      <td>NaN</td>\n",
       "      <td>NaN</td>\n",
       "      <td>NaN</td>\n",
       "      <td>NaN</td>\n",
       "      <td>...</td>\n",
       "      <td>NaN</td>\n",
       "      <td>NaN</td>\n",
       "      <td>NaN</td>\n",
       "      <td>NaN</td>\n",
       "      <td>NaN</td>\n",
       "      <td>NaN</td>\n",
       "      <td>NaN</td>\n",
       "      <td>NaN</td>\n",
       "      <td>NaN</td>\n",
       "      <td>NaN</td>\n",
       "    </tr>\n",
       "    <tr>\n",
       "      <th>4</th>\n",
       "      <td>@attribute education {basic.4y</td>\n",
       "      <td>high.school</td>\n",
       "      <td>basic.6y</td>\n",
       "      <td>basic.9y</td>\n",
       "      <td>professional.course</td>\n",
       "      <td>unknown</td>\n",
       "      <td>university.degree</td>\n",
       "      <td>illiterate}</td>\n",
       "      <td>NaN</td>\n",
       "      <td>NaN</td>\n",
       "      <td>...</td>\n",
       "      <td>NaN</td>\n",
       "      <td>NaN</td>\n",
       "      <td>NaN</td>\n",
       "      <td>NaN</td>\n",
       "      <td>NaN</td>\n",
       "      <td>NaN</td>\n",
       "      <td>NaN</td>\n",
       "      <td>NaN</td>\n",
       "      <td>NaN</td>\n",
       "      <td>NaN</td>\n",
       "    </tr>\n",
       "  </tbody>\n",
       "</table>\n",
       "<p>5 rows × 21 columns</p>\n",
       "</div>"
      ],
      "text/plain": [
       "                              age          job   marital    education  \\\n",
       "0  @relation bank-additional-full          NaN       NaN          NaN   \n",
       "1          @attribute age numeric          NaN       NaN          NaN   \n",
       "2       @attribute job {housemaid     services    admin.  blue-collar   \n",
       "3     @attribute marital {married       single  divorced     unknown}   \n",
       "4  @attribute education {basic.4y  high.school  basic.6y     basic.9y   \n",
       "\n",
       "               default  housing               loan      contact  \\\n",
       "0                  NaN      NaN                NaN          NaN   \n",
       "1                  NaN      NaN                NaN          NaN   \n",
       "2           technician  retired         management   unemployed   \n",
       "3                  NaN      NaN                NaN          NaN   \n",
       "4  professional.course  unknown  university.degree  illiterate}   \n",
       "\n",
       "           month day_of_week  ...  campaign pdays  previous  poutcome  \\\n",
       "0            NaN         NaN  ...       NaN   NaN       NaN       NaN   \n",
       "1            NaN         NaN  ...       NaN   NaN       NaN       NaN   \n",
       "2  self-employed     unknown  ...  student}   NaN       NaN       NaN   \n",
       "3            NaN         NaN  ...       NaN   NaN       NaN       NaN   \n",
       "4            NaN         NaN  ...       NaN   NaN       NaN       NaN   \n",
       "\n",
       "  emp.var.rate  cons.price.idx  cons.conf.idx  euribor3m  nr.employed    y  \n",
       "0          NaN             NaN            NaN        NaN          NaN  NaN  \n",
       "1          NaN             NaN            NaN        NaN          NaN  NaN  \n",
       "2          NaN             NaN            NaN        NaN          NaN  NaN  \n",
       "3          NaN             NaN            NaN        NaN          NaN  NaN  \n",
       "4          NaN             NaN            NaN        NaN          NaN  NaN  \n",
       "\n",
       "[5 rows x 21 columns]"
      ]
     },
     "execution_count": 1,
     "metadata": {},
     "output_type": "execute_result"
    }
   ],
   "source": [
    "# create the dataframes\n",
    "import pandas as pd\n",
    "import numpy as np\n",
    "from sklearn.metrics import mean_absolute_error\n",
    "from sklearn.preprocessing import LabelEncoder\n",
    "from scipy.io import arff\n",
    "\n",
    "#rurn off warnings\n",
    "import warnings\n",
    "warnings.filterwarnings(\"ignore\")\n",
    "\n",
    "# create header for dataset\n",
    "header = ['age','job','marital','education','default','housing','loan','contact',\n",
    "    'month','day_of_week','duration','campaign','pdays','previous','poutcome','emp.var.rate',\n",
    "    'cons.price.idx','cons.conf.idx','euribor3m','nr.employed','y']\n",
    "\n",
    "\n",
    "df_full = pd.read_csv(\"data/bank-additional-full.arff\",\n",
    "        header=None,\n",
    "        names=header\n",
    "      )\n",
    "df_small = pd.read_csv(\"data/bank-additional.arff\",\n",
    "        header=None,\n",
    "        names=header\n",
    "      )\n",
    "bank_marketing_full=df_full\n",
    "bank_marketing_small=df_small\n",
    "#visualize the full dataset\n",
    "df_full.head()\n",
    "\n"
   ]
  },
  {
   "cell_type": "code",
   "execution_count": 2,
   "metadata": {},
   "outputs": [
    {
     "data": {
      "text/html": [
       "<div>\n",
       "<style scoped>\n",
       "    .dataframe tbody tr th:only-of-type {\n",
       "        vertical-align: middle;\n",
       "    }\n",
       "\n",
       "    .dataframe tbody tr th {\n",
       "        vertical-align: top;\n",
       "    }\n",
       "\n",
       "    .dataframe thead th {\n",
       "        text-align: right;\n",
       "    }\n",
       "</style>\n",
       "<table border=\"1\" class=\"dataframe\">\n",
       "  <thead>\n",
       "    <tr style=\"text-align: right;\">\n",
       "      <th></th>\n",
       "      <th>age</th>\n",
       "      <th>job</th>\n",
       "      <th>marital</th>\n",
       "      <th>education</th>\n",
       "      <th>default</th>\n",
       "      <th>housing</th>\n",
       "      <th>loan</th>\n",
       "      <th>contact</th>\n",
       "      <th>month</th>\n",
       "      <th>day_of_week</th>\n",
       "      <th>...</th>\n",
       "      <th>campaign</th>\n",
       "      <th>pdays</th>\n",
       "      <th>previous</th>\n",
       "      <th>poutcome</th>\n",
       "      <th>emp.var.rate</th>\n",
       "      <th>cons.price.idx</th>\n",
       "      <th>cons.conf.idx</th>\n",
       "      <th>euribor3m</th>\n",
       "      <th>nr.employed</th>\n",
       "      <th>y</th>\n",
       "    </tr>\n",
       "  </thead>\n",
       "  <tbody>\n",
       "    <tr>\n",
       "      <th>0</th>\n",
       "      <td>@relation bank-additional</td>\n",
       "      <td>NaN</td>\n",
       "      <td>NaN</td>\n",
       "      <td>NaN</td>\n",
       "      <td>NaN</td>\n",
       "      <td>NaN</td>\n",
       "      <td>NaN</td>\n",
       "      <td>NaN</td>\n",
       "      <td>NaN</td>\n",
       "      <td>NaN</td>\n",
       "      <td>...</td>\n",
       "      <td>NaN</td>\n",
       "      <td>NaN</td>\n",
       "      <td>NaN</td>\n",
       "      <td>NaN</td>\n",
       "      <td>NaN</td>\n",
       "      <td>NaN</td>\n",
       "      <td>NaN</td>\n",
       "      <td>NaN</td>\n",
       "      <td>NaN</td>\n",
       "      <td>NaN</td>\n",
       "    </tr>\n",
       "    <tr>\n",
       "      <th>1</th>\n",
       "      <td>@attribute age numeric</td>\n",
       "      <td>NaN</td>\n",
       "      <td>NaN</td>\n",
       "      <td>NaN</td>\n",
       "      <td>NaN</td>\n",
       "      <td>NaN</td>\n",
       "      <td>NaN</td>\n",
       "      <td>NaN</td>\n",
       "      <td>NaN</td>\n",
       "      <td>NaN</td>\n",
       "      <td>...</td>\n",
       "      <td>NaN</td>\n",
       "      <td>NaN</td>\n",
       "      <td>NaN</td>\n",
       "      <td>NaN</td>\n",
       "      <td>NaN</td>\n",
       "      <td>NaN</td>\n",
       "      <td>NaN</td>\n",
       "      <td>NaN</td>\n",
       "      <td>NaN</td>\n",
       "      <td>NaN</td>\n",
       "    </tr>\n",
       "    <tr>\n",
       "      <th>2</th>\n",
       "      <td>@attribute job {blue-collar</td>\n",
       "      <td>services</td>\n",
       "      <td>admin.</td>\n",
       "      <td>entrepreneur</td>\n",
       "      <td>self-employed</td>\n",
       "      <td>technician</td>\n",
       "      <td>management</td>\n",
       "      <td>student</td>\n",
       "      <td>retired</td>\n",
       "      <td>housemaid</td>\n",
       "      <td>...</td>\n",
       "      <td>unknown}</td>\n",
       "      <td>NaN</td>\n",
       "      <td>NaN</td>\n",
       "      <td>NaN</td>\n",
       "      <td>NaN</td>\n",
       "      <td>NaN</td>\n",
       "      <td>NaN</td>\n",
       "      <td>NaN</td>\n",
       "      <td>NaN</td>\n",
       "      <td>NaN</td>\n",
       "    </tr>\n",
       "    <tr>\n",
       "      <th>3</th>\n",
       "      <td>@attribute marital {married</td>\n",
       "      <td>single</td>\n",
       "      <td>divorced</td>\n",
       "      <td>unknown}</td>\n",
       "      <td>NaN</td>\n",
       "      <td>NaN</td>\n",
       "      <td>NaN</td>\n",
       "      <td>NaN</td>\n",
       "      <td>NaN</td>\n",
       "      <td>NaN</td>\n",
       "      <td>...</td>\n",
       "      <td>NaN</td>\n",
       "      <td>NaN</td>\n",
       "      <td>NaN</td>\n",
       "      <td>NaN</td>\n",
       "      <td>NaN</td>\n",
       "      <td>NaN</td>\n",
       "      <td>NaN</td>\n",
       "      <td>NaN</td>\n",
       "      <td>NaN</td>\n",
       "      <td>NaN</td>\n",
       "    </tr>\n",
       "    <tr>\n",
       "      <th>4</th>\n",
       "      <td>@attribute education {basic.9y</td>\n",
       "      <td>high.school</td>\n",
       "      <td>university.degree</td>\n",
       "      <td>professional.course</td>\n",
       "      <td>basic.6y</td>\n",
       "      <td>basic.4y</td>\n",
       "      <td>unknown</td>\n",
       "      <td>illiterate}</td>\n",
       "      <td>NaN</td>\n",
       "      <td>NaN</td>\n",
       "      <td>...</td>\n",
       "      <td>NaN</td>\n",
       "      <td>NaN</td>\n",
       "      <td>NaN</td>\n",
       "      <td>NaN</td>\n",
       "      <td>NaN</td>\n",
       "      <td>NaN</td>\n",
       "      <td>NaN</td>\n",
       "      <td>NaN</td>\n",
       "      <td>NaN</td>\n",
       "      <td>NaN</td>\n",
       "    </tr>\n",
       "  </tbody>\n",
       "</table>\n",
       "<p>5 rows × 21 columns</p>\n",
       "</div>"
      ],
      "text/plain": [
       "                              age          job            marital  \\\n",
       "0       @relation bank-additional          NaN                NaN   \n",
       "1          @attribute age numeric          NaN                NaN   \n",
       "2     @attribute job {blue-collar     services             admin.   \n",
       "3     @attribute marital {married       single           divorced   \n",
       "4  @attribute education {basic.9y  high.school  university.degree   \n",
       "\n",
       "             education        default     housing        loan      contact  \\\n",
       "0                  NaN            NaN         NaN         NaN          NaN   \n",
       "1                  NaN            NaN         NaN         NaN          NaN   \n",
       "2         entrepreneur  self-employed  technician  management      student   \n",
       "3             unknown}            NaN         NaN         NaN          NaN   \n",
       "4  professional.course       basic.6y    basic.4y     unknown  illiterate}   \n",
       "\n",
       "     month day_of_week  ...  campaign pdays  previous  poutcome emp.var.rate  \\\n",
       "0      NaN         NaN  ...       NaN   NaN       NaN       NaN          NaN   \n",
       "1      NaN         NaN  ...       NaN   NaN       NaN       NaN          NaN   \n",
       "2  retired   housemaid  ...  unknown}   NaN       NaN       NaN          NaN   \n",
       "3      NaN         NaN  ...       NaN   NaN       NaN       NaN          NaN   \n",
       "4      NaN         NaN  ...       NaN   NaN       NaN       NaN          NaN   \n",
       "\n",
       "   cons.price.idx  cons.conf.idx  euribor3m  nr.employed    y  \n",
       "0             NaN            NaN        NaN          NaN  NaN  \n",
       "1             NaN            NaN        NaN          NaN  NaN  \n",
       "2             NaN            NaN        NaN          NaN  NaN  \n",
       "3             NaN            NaN        NaN          NaN  NaN  \n",
       "4             NaN            NaN        NaN          NaN  NaN  \n",
       "\n",
       "[5 rows x 21 columns]"
      ]
     },
     "execution_count": 2,
     "metadata": {},
     "output_type": "execute_result"
    }
   ],
   "source": [
    "#visualize the smaller dataset\n",
    "df_small.head()"
   ]
  },
  {
   "cell_type": "markdown",
   "metadata": {},
   "source": [
    "### 3. Are there any missing characters?\n",
    "What do you do about them"
   ]
  },
  {
   "cell_type": "markdown",
   "metadata": {},
   "source": [
    "### 3.1 Check for missing values\n",
    "There are some missing values. We could take several approaches to missing values:\n",
    "1. Fill them with some value(imputation)\n",
    "2. Removing the samples with missing values altogether"
   ]
  },
  {
   "cell_type": "code",
   "execution_count": 3,
   "metadata": {},
   "outputs": [
    {
     "data": {
      "text/plain": [
       "age                0\n",
       "job               12\n",
       "marital           14\n",
       "education         18\n",
       "default           19\n",
       "housing           20\n",
       "loan              20\n",
       "contact           20\n",
       "month             21\n",
       "day_of_week       21\n",
       "duration          22\n",
       "campaign          22\n",
       "pdays             23\n",
       "previous          23\n",
       "poutcome          23\n",
       "emp.var.rate      23\n",
       "cons.price.idx    23\n",
       "cons.conf.idx     23\n",
       "euribor3m         23\n",
       "nr.employed       23\n",
       "y                 23\n",
       "dtype: int64"
      ]
     },
     "execution_count": 3,
     "metadata": {},
     "output_type": "execute_result"
    }
   ],
   "source": [
    "#Check for missing values in the full dataset\n",
    "df_full.isna().sum()"
   ]
  },
  {
   "cell_type": "code",
   "execution_count": 4,
   "metadata": {},
   "outputs": [
    {
     "data": {
      "text/plain": [
       "age                0\n",
       "job               12\n",
       "marital           14\n",
       "education         18\n",
       "default           19\n",
       "housing           20\n",
       "loan              20\n",
       "contact           20\n",
       "month             21\n",
       "day_of_week       21\n",
       "duration          22\n",
       "campaign          22\n",
       "pdays             23\n",
       "previous          23\n",
       "poutcome          23\n",
       "emp.var.rate      23\n",
       "cons.price.idx    23\n",
       "cons.conf.idx     23\n",
       "euribor3m         23\n",
       "nr.employed       23\n",
       "y                 23\n",
       "dtype: int64"
      ]
     },
     "execution_count": 4,
     "metadata": {},
     "output_type": "execute_result"
    }
   ],
   "source": [
    "#Check for missing values in the small dataset\n",
    "df_small.isna().sum()"
   ]
  },
  {
   "cell_type": "markdown",
   "metadata": {},
   "source": [
    "There are missing values. We are going to drop attributes with missing values"
   ]
  },
  {
   "cell_type": "code",
   "execution_count": 5,
   "metadata": {},
   "outputs": [
    {
     "data": {
      "text/html": [
       "<div>\n",
       "<style scoped>\n",
       "    .dataframe tbody tr th:only-of-type {\n",
       "        vertical-align: middle;\n",
       "    }\n",
       "\n",
       "    .dataframe tbody tr th {\n",
       "        vertical-align: top;\n",
       "    }\n",
       "\n",
       "    .dataframe thead th {\n",
       "        text-align: right;\n",
       "    }\n",
       "</style>\n",
       "<table border=\"1\" class=\"dataframe\">\n",
       "  <thead>\n",
       "    <tr style=\"text-align: right;\">\n",
       "      <th></th>\n",
       "      <th>age</th>\n",
       "      <th>job</th>\n",
       "      <th>marital</th>\n",
       "      <th>education</th>\n",
       "      <th>default</th>\n",
       "      <th>housing</th>\n",
       "      <th>loan</th>\n",
       "      <th>contact</th>\n",
       "      <th>month</th>\n",
       "      <th>day_of_week</th>\n",
       "      <th>...</th>\n",
       "      <th>campaign</th>\n",
       "      <th>pdays</th>\n",
       "      <th>previous</th>\n",
       "      <th>poutcome</th>\n",
       "      <th>emp.var.rate</th>\n",
       "      <th>cons.price.idx</th>\n",
       "      <th>cons.conf.idx</th>\n",
       "      <th>euribor3m</th>\n",
       "      <th>nr.employed</th>\n",
       "      <th>y</th>\n",
       "    </tr>\n",
       "  </thead>\n",
       "  <tbody>\n",
       "    <tr>\n",
       "      <th>23</th>\n",
       "      <td>56</td>\n",
       "      <td>housemaid</td>\n",
       "      <td>married</td>\n",
       "      <td>basic.4y</td>\n",
       "      <td>no</td>\n",
       "      <td>no</td>\n",
       "      <td>no</td>\n",
       "      <td>telephone</td>\n",
       "      <td>may</td>\n",
       "      <td>mon</td>\n",
       "      <td>...</td>\n",
       "      <td>1</td>\n",
       "      <td>999.0</td>\n",
       "      <td>0.0</td>\n",
       "      <td>nonexistent</td>\n",
       "      <td>1.1</td>\n",
       "      <td>93.994</td>\n",
       "      <td>-36.4</td>\n",
       "      <td>4.857</td>\n",
       "      <td>5191.0</td>\n",
       "      <td>no</td>\n",
       "    </tr>\n",
       "    <tr>\n",
       "      <th>24</th>\n",
       "      <td>57</td>\n",
       "      <td>services</td>\n",
       "      <td>married</td>\n",
       "      <td>high.school</td>\n",
       "      <td>unknown</td>\n",
       "      <td>no</td>\n",
       "      <td>no</td>\n",
       "      <td>telephone</td>\n",
       "      <td>may</td>\n",
       "      <td>mon</td>\n",
       "      <td>...</td>\n",
       "      <td>1</td>\n",
       "      <td>999.0</td>\n",
       "      <td>0.0</td>\n",
       "      <td>nonexistent</td>\n",
       "      <td>1.1</td>\n",
       "      <td>93.994</td>\n",
       "      <td>-36.4</td>\n",
       "      <td>4.857</td>\n",
       "      <td>5191.0</td>\n",
       "      <td>no</td>\n",
       "    </tr>\n",
       "    <tr>\n",
       "      <th>25</th>\n",
       "      <td>37</td>\n",
       "      <td>services</td>\n",
       "      <td>married</td>\n",
       "      <td>high.school</td>\n",
       "      <td>no</td>\n",
       "      <td>yes</td>\n",
       "      <td>no</td>\n",
       "      <td>telephone</td>\n",
       "      <td>may</td>\n",
       "      <td>mon</td>\n",
       "      <td>...</td>\n",
       "      <td>1</td>\n",
       "      <td>999.0</td>\n",
       "      <td>0.0</td>\n",
       "      <td>nonexistent</td>\n",
       "      <td>1.1</td>\n",
       "      <td>93.994</td>\n",
       "      <td>-36.4</td>\n",
       "      <td>4.857</td>\n",
       "      <td>5191.0</td>\n",
       "      <td>no</td>\n",
       "    </tr>\n",
       "    <tr>\n",
       "      <th>26</th>\n",
       "      <td>40</td>\n",
       "      <td>admin.</td>\n",
       "      <td>married</td>\n",
       "      <td>basic.6y</td>\n",
       "      <td>no</td>\n",
       "      <td>no</td>\n",
       "      <td>no</td>\n",
       "      <td>telephone</td>\n",
       "      <td>may</td>\n",
       "      <td>mon</td>\n",
       "      <td>...</td>\n",
       "      <td>1</td>\n",
       "      <td>999.0</td>\n",
       "      <td>0.0</td>\n",
       "      <td>nonexistent</td>\n",
       "      <td>1.1</td>\n",
       "      <td>93.994</td>\n",
       "      <td>-36.4</td>\n",
       "      <td>4.857</td>\n",
       "      <td>5191.0</td>\n",
       "      <td>no</td>\n",
       "    </tr>\n",
       "    <tr>\n",
       "      <th>27</th>\n",
       "      <td>56</td>\n",
       "      <td>services</td>\n",
       "      <td>married</td>\n",
       "      <td>high.school</td>\n",
       "      <td>no</td>\n",
       "      <td>no</td>\n",
       "      <td>yes</td>\n",
       "      <td>telephone</td>\n",
       "      <td>may</td>\n",
       "      <td>mon</td>\n",
       "      <td>...</td>\n",
       "      <td>1</td>\n",
       "      <td>999.0</td>\n",
       "      <td>0.0</td>\n",
       "      <td>nonexistent</td>\n",
       "      <td>1.1</td>\n",
       "      <td>93.994</td>\n",
       "      <td>-36.4</td>\n",
       "      <td>4.857</td>\n",
       "      <td>5191.0</td>\n",
       "      <td>no</td>\n",
       "    </tr>\n",
       "  </tbody>\n",
       "</table>\n",
       "<p>5 rows × 21 columns</p>\n",
       "</div>"
      ],
      "text/plain": [
       "   age        job  marital    education  default housing loan    contact  \\\n",
       "23  56  housemaid  married     basic.4y       no      no   no  telephone   \n",
       "24  57   services  married  high.school  unknown      no   no  telephone   \n",
       "25  37   services  married  high.school       no     yes   no  telephone   \n",
       "26  40     admin.  married     basic.6y       no      no   no  telephone   \n",
       "27  56   services  married  high.school       no      no  yes  telephone   \n",
       "\n",
       "   month day_of_week  ... campaign  pdays  previous     poutcome emp.var.rate  \\\n",
       "23   may         mon  ...        1  999.0       0.0  nonexistent          1.1   \n",
       "24   may         mon  ...        1  999.0       0.0  nonexistent          1.1   \n",
       "25   may         mon  ...        1  999.0       0.0  nonexistent          1.1   \n",
       "26   may         mon  ...        1  999.0       0.0  nonexistent          1.1   \n",
       "27   may         mon  ...        1  999.0       0.0  nonexistent          1.1   \n",
       "\n",
       "    cons.price.idx  cons.conf.idx  euribor3m  nr.employed   y  \n",
       "23          93.994          -36.4      4.857       5191.0  no  \n",
       "24          93.994          -36.4      4.857       5191.0  no  \n",
       "25          93.994          -36.4      4.857       5191.0  no  \n",
       "26          93.994          -36.4      4.857       5191.0  no  \n",
       "27          93.994          -36.4      4.857       5191.0  no  \n",
       "\n",
       "[5 rows x 21 columns]"
      ]
     },
     "execution_count": 5,
     "metadata": {},
     "output_type": "execute_result"
    }
   ],
   "source": [
    "# drop the NaN\n",
    "df_full = df_full.dropna(axis=0, how=\"any\")\n",
    "df_full.head()"
   ]
  },
  {
   "cell_type": "code",
   "execution_count": 6,
   "metadata": {},
   "outputs": [
    {
     "data": {
      "text/html": [
       "<div>\n",
       "<style scoped>\n",
       "    .dataframe tbody tr th:only-of-type {\n",
       "        vertical-align: middle;\n",
       "    }\n",
       "\n",
       "    .dataframe tbody tr th {\n",
       "        vertical-align: top;\n",
       "    }\n",
       "\n",
       "    .dataframe thead th {\n",
       "        text-align: right;\n",
       "    }\n",
       "</style>\n",
       "<table border=\"1\" class=\"dataframe\">\n",
       "  <thead>\n",
       "    <tr style=\"text-align: right;\">\n",
       "      <th></th>\n",
       "      <th>age</th>\n",
       "      <th>job</th>\n",
       "      <th>marital</th>\n",
       "      <th>education</th>\n",
       "      <th>default</th>\n",
       "      <th>housing</th>\n",
       "      <th>loan</th>\n",
       "      <th>contact</th>\n",
       "      <th>month</th>\n",
       "      <th>day_of_week</th>\n",
       "      <th>...</th>\n",
       "      <th>campaign</th>\n",
       "      <th>pdays</th>\n",
       "      <th>previous</th>\n",
       "      <th>poutcome</th>\n",
       "      <th>emp.var.rate</th>\n",
       "      <th>cons.price.idx</th>\n",
       "      <th>cons.conf.idx</th>\n",
       "      <th>euribor3m</th>\n",
       "      <th>nr.employed</th>\n",
       "      <th>y</th>\n",
       "    </tr>\n",
       "  </thead>\n",
       "  <tbody>\n",
       "    <tr>\n",
       "      <th>23</th>\n",
       "      <td>30</td>\n",
       "      <td>blue-collar</td>\n",
       "      <td>married</td>\n",
       "      <td>basic.9y</td>\n",
       "      <td>no</td>\n",
       "      <td>yes</td>\n",
       "      <td>no</td>\n",
       "      <td>cellular</td>\n",
       "      <td>may</td>\n",
       "      <td>fri</td>\n",
       "      <td>...</td>\n",
       "      <td>2</td>\n",
       "      <td>999.0</td>\n",
       "      <td>0.0</td>\n",
       "      <td>nonexistent</td>\n",
       "      <td>-1.8</td>\n",
       "      <td>92.893</td>\n",
       "      <td>-46.2</td>\n",
       "      <td>1.313</td>\n",
       "      <td>5099.1</td>\n",
       "      <td>no</td>\n",
       "    </tr>\n",
       "    <tr>\n",
       "      <th>24</th>\n",
       "      <td>39</td>\n",
       "      <td>services</td>\n",
       "      <td>single</td>\n",
       "      <td>high.school</td>\n",
       "      <td>no</td>\n",
       "      <td>no</td>\n",
       "      <td>no</td>\n",
       "      <td>telephone</td>\n",
       "      <td>may</td>\n",
       "      <td>fri</td>\n",
       "      <td>...</td>\n",
       "      <td>4</td>\n",
       "      <td>999.0</td>\n",
       "      <td>0.0</td>\n",
       "      <td>nonexistent</td>\n",
       "      <td>1.1</td>\n",
       "      <td>93.994</td>\n",
       "      <td>-36.4</td>\n",
       "      <td>4.855</td>\n",
       "      <td>5191.0</td>\n",
       "      <td>no</td>\n",
       "    </tr>\n",
       "    <tr>\n",
       "      <th>25</th>\n",
       "      <td>25</td>\n",
       "      <td>services</td>\n",
       "      <td>married</td>\n",
       "      <td>high.school</td>\n",
       "      <td>no</td>\n",
       "      <td>yes</td>\n",
       "      <td>no</td>\n",
       "      <td>telephone</td>\n",
       "      <td>jun</td>\n",
       "      <td>wed</td>\n",
       "      <td>...</td>\n",
       "      <td>1</td>\n",
       "      <td>999.0</td>\n",
       "      <td>0.0</td>\n",
       "      <td>nonexistent</td>\n",
       "      <td>1.4</td>\n",
       "      <td>94.465</td>\n",
       "      <td>-41.8</td>\n",
       "      <td>4.962</td>\n",
       "      <td>5228.1</td>\n",
       "      <td>no</td>\n",
       "    </tr>\n",
       "    <tr>\n",
       "      <th>26</th>\n",
       "      <td>38</td>\n",
       "      <td>services</td>\n",
       "      <td>married</td>\n",
       "      <td>basic.9y</td>\n",
       "      <td>no</td>\n",
       "      <td>unknown</td>\n",
       "      <td>unknown</td>\n",
       "      <td>telephone</td>\n",
       "      <td>jun</td>\n",
       "      <td>fri</td>\n",
       "      <td>...</td>\n",
       "      <td>3</td>\n",
       "      <td>999.0</td>\n",
       "      <td>0.0</td>\n",
       "      <td>nonexistent</td>\n",
       "      <td>1.4</td>\n",
       "      <td>94.465</td>\n",
       "      <td>-41.8</td>\n",
       "      <td>4.959</td>\n",
       "      <td>5228.1</td>\n",
       "      <td>no</td>\n",
       "    </tr>\n",
       "    <tr>\n",
       "      <th>27</th>\n",
       "      <td>47</td>\n",
       "      <td>admin.</td>\n",
       "      <td>married</td>\n",
       "      <td>university.degree</td>\n",
       "      <td>no</td>\n",
       "      <td>yes</td>\n",
       "      <td>no</td>\n",
       "      <td>cellular</td>\n",
       "      <td>nov</td>\n",
       "      <td>mon</td>\n",
       "      <td>...</td>\n",
       "      <td>1</td>\n",
       "      <td>999.0</td>\n",
       "      <td>0.0</td>\n",
       "      <td>nonexistent</td>\n",
       "      <td>-0.1</td>\n",
       "      <td>93.200</td>\n",
       "      <td>-42.0</td>\n",
       "      <td>4.191</td>\n",
       "      <td>5195.8</td>\n",
       "      <td>no</td>\n",
       "    </tr>\n",
       "  </tbody>\n",
       "</table>\n",
       "<p>5 rows × 21 columns</p>\n",
       "</div>"
      ],
      "text/plain": [
       "   age          job  marital          education default  housing     loan  \\\n",
       "23  30  blue-collar  married           basic.9y      no      yes       no   \n",
       "24  39     services   single        high.school      no       no       no   \n",
       "25  25     services  married        high.school      no      yes       no   \n",
       "26  38     services  married           basic.9y      no  unknown  unknown   \n",
       "27  47       admin.  married  university.degree      no      yes       no   \n",
       "\n",
       "      contact month day_of_week  ... campaign  pdays  previous     poutcome  \\\n",
       "23   cellular   may         fri  ...        2  999.0       0.0  nonexistent   \n",
       "24  telephone   may         fri  ...        4  999.0       0.0  nonexistent   \n",
       "25  telephone   jun         wed  ...        1  999.0       0.0  nonexistent   \n",
       "26  telephone   jun         fri  ...        3  999.0       0.0  nonexistent   \n",
       "27   cellular   nov         mon  ...        1  999.0       0.0  nonexistent   \n",
       "\n",
       "   emp.var.rate  cons.price.idx  cons.conf.idx  euribor3m  nr.employed   y  \n",
       "23         -1.8          92.893          -46.2      1.313       5099.1  no  \n",
       "24          1.1          93.994          -36.4      4.855       5191.0  no  \n",
       "25          1.4          94.465          -41.8      4.962       5228.1  no  \n",
       "26          1.4          94.465          -41.8      4.959       5228.1  no  \n",
       "27         -0.1          93.200          -42.0      4.191       5195.8  no  \n",
       "\n",
       "[5 rows x 21 columns]"
      ]
     },
     "execution_count": 6,
     "metadata": {},
     "output_type": "execute_result"
    }
   ],
   "source": [
    "# drop the NaN\n",
    "df_small = df_small.dropna(axis=0, how=\"any\")\n",
    "df_small.head()"
   ]
  },
  {
   "cell_type": "code",
   "execution_count": 7,
   "metadata": {},
   "outputs": [
    {
     "data": {
      "text/plain": [
       "age               0\n",
       "job               0\n",
       "marital           0\n",
       "education         0\n",
       "default           0\n",
       "housing           0\n",
       "loan              0\n",
       "contact           0\n",
       "month             0\n",
       "day_of_week       0\n",
       "duration          0\n",
       "campaign          0\n",
       "pdays             0\n",
       "previous          0\n",
       "poutcome          0\n",
       "emp.var.rate      0\n",
       "cons.price.idx    0\n",
       "cons.conf.idx     0\n",
       "euribor3m         0\n",
       "nr.employed       0\n",
       "y                 0\n",
       "dtype: int64"
      ]
     },
     "execution_count": 7,
     "metadata": {},
     "output_type": "execute_result"
    }
   ],
   "source": [
    "#confirm all missing values have been removed\n",
    "df_full.isna().sum()"
   ]
  },
  {
   "cell_type": "code",
   "execution_count": 8,
   "metadata": {},
   "outputs": [
    {
     "data": {
      "text/plain": [
       "age               0\n",
       "job               0\n",
       "marital           0\n",
       "education         0\n",
       "default           0\n",
       "housing           0\n",
       "loan              0\n",
       "contact           0\n",
       "month             0\n",
       "day_of_week       0\n",
       "duration          0\n",
       "campaign          0\n",
       "pdays             0\n",
       "previous          0\n",
       "poutcome          0\n",
       "emp.var.rate      0\n",
       "cons.price.idx    0\n",
       "cons.conf.idx     0\n",
       "euribor3m         0\n",
       "nr.employed       0\n",
       "y                 0\n",
       "dtype: int64"
      ]
     },
     "execution_count": 8,
     "metadata": {},
     "output_type": "execute_result"
    }
   ],
   "source": [
    "#confirm all missing values have been removed\n",
    "df_small.isna().sum()"
   ]
  },
  {
   "cell_type": "code",
   "execution_count": 9,
   "metadata": {},
   "outputs": [
    {
     "name": "stdout",
     "output_type": "stream",
     "text": [
      "Total samples: 41188\n"
     ]
    }
   ],
   "source": [
    "# print total samples\n",
    "print(\"Total samples:\", len(df_full))"
   ]
  },
  {
   "cell_type": "code",
   "execution_count": 10,
   "metadata": {},
   "outputs": [
    {
     "name": "stdout",
     "output_type": "stream",
     "text": [
      "Total samples: 4119\n"
     ]
    }
   ],
   "source": [
    "# print total samples\n",
    "print(\"Total samples:\", len(df_small))"
   ]
  },
  {
   "cell_type": "code",
   "execution_count": 11,
   "metadata": {},
   "outputs": [
    {
     "data": {
      "text/html": [
       "<div>\n",
       "<style scoped>\n",
       "    .dataframe tbody tr th:only-of-type {\n",
       "        vertical-align: middle;\n",
       "    }\n",
       "\n",
       "    .dataframe tbody tr th {\n",
       "        vertical-align: top;\n",
       "    }\n",
       "\n",
       "    .dataframe thead th {\n",
       "        text-align: right;\n",
       "    }\n",
       "</style>\n",
       "<table border=\"1\" class=\"dataframe\">\n",
       "  <thead>\n",
       "    <tr style=\"text-align: right;\">\n",
       "      <th></th>\n",
       "      <th>age</th>\n",
       "      <th>job</th>\n",
       "      <th>marital</th>\n",
       "      <th>education</th>\n",
       "      <th>default</th>\n",
       "      <th>housing</th>\n",
       "      <th>loan</th>\n",
       "      <th>contact</th>\n",
       "      <th>month</th>\n",
       "      <th>day_of_week</th>\n",
       "      <th>campaign</th>\n",
       "      <th>pdays</th>\n",
       "      <th>previous</th>\n",
       "      <th>poutcome</th>\n",
       "      <th>emp.var.rate</th>\n",
       "      <th>cons.price.idx</th>\n",
       "      <th>cons.conf.idx</th>\n",
       "      <th>euribor3m</th>\n",
       "      <th>nr.employed</th>\n",
       "      <th>y</th>\n",
       "    </tr>\n",
       "  </thead>\n",
       "  <tbody>\n",
       "    <tr>\n",
       "      <th>23</th>\n",
       "      <td>56</td>\n",
       "      <td>housemaid</td>\n",
       "      <td>married</td>\n",
       "      <td>basic.4y</td>\n",
       "      <td>no</td>\n",
       "      <td>no</td>\n",
       "      <td>no</td>\n",
       "      <td>telephone</td>\n",
       "      <td>may</td>\n",
       "      <td>mon</td>\n",
       "      <td>1</td>\n",
       "      <td>999.0</td>\n",
       "      <td>0.0</td>\n",
       "      <td>nonexistent</td>\n",
       "      <td>1.1</td>\n",
       "      <td>93.994</td>\n",
       "      <td>-36.4</td>\n",
       "      <td>4.857</td>\n",
       "      <td>5191.0</td>\n",
       "      <td>no</td>\n",
       "    </tr>\n",
       "    <tr>\n",
       "      <th>24</th>\n",
       "      <td>57</td>\n",
       "      <td>services</td>\n",
       "      <td>married</td>\n",
       "      <td>high.school</td>\n",
       "      <td>unknown</td>\n",
       "      <td>no</td>\n",
       "      <td>no</td>\n",
       "      <td>telephone</td>\n",
       "      <td>may</td>\n",
       "      <td>mon</td>\n",
       "      <td>1</td>\n",
       "      <td>999.0</td>\n",
       "      <td>0.0</td>\n",
       "      <td>nonexistent</td>\n",
       "      <td>1.1</td>\n",
       "      <td>93.994</td>\n",
       "      <td>-36.4</td>\n",
       "      <td>4.857</td>\n",
       "      <td>5191.0</td>\n",
       "      <td>no</td>\n",
       "    </tr>\n",
       "    <tr>\n",
       "      <th>25</th>\n",
       "      <td>37</td>\n",
       "      <td>services</td>\n",
       "      <td>married</td>\n",
       "      <td>high.school</td>\n",
       "      <td>no</td>\n",
       "      <td>yes</td>\n",
       "      <td>no</td>\n",
       "      <td>telephone</td>\n",
       "      <td>may</td>\n",
       "      <td>mon</td>\n",
       "      <td>1</td>\n",
       "      <td>999.0</td>\n",
       "      <td>0.0</td>\n",
       "      <td>nonexistent</td>\n",
       "      <td>1.1</td>\n",
       "      <td>93.994</td>\n",
       "      <td>-36.4</td>\n",
       "      <td>4.857</td>\n",
       "      <td>5191.0</td>\n",
       "      <td>no</td>\n",
       "    </tr>\n",
       "    <tr>\n",
       "      <th>26</th>\n",
       "      <td>40</td>\n",
       "      <td>admin.</td>\n",
       "      <td>married</td>\n",
       "      <td>basic.6y</td>\n",
       "      <td>no</td>\n",
       "      <td>no</td>\n",
       "      <td>no</td>\n",
       "      <td>telephone</td>\n",
       "      <td>may</td>\n",
       "      <td>mon</td>\n",
       "      <td>1</td>\n",
       "      <td>999.0</td>\n",
       "      <td>0.0</td>\n",
       "      <td>nonexistent</td>\n",
       "      <td>1.1</td>\n",
       "      <td>93.994</td>\n",
       "      <td>-36.4</td>\n",
       "      <td>4.857</td>\n",
       "      <td>5191.0</td>\n",
       "      <td>no</td>\n",
       "    </tr>\n",
       "    <tr>\n",
       "      <th>27</th>\n",
       "      <td>56</td>\n",
       "      <td>services</td>\n",
       "      <td>married</td>\n",
       "      <td>high.school</td>\n",
       "      <td>no</td>\n",
       "      <td>no</td>\n",
       "      <td>yes</td>\n",
       "      <td>telephone</td>\n",
       "      <td>may</td>\n",
       "      <td>mon</td>\n",
       "      <td>1</td>\n",
       "      <td>999.0</td>\n",
       "      <td>0.0</td>\n",
       "      <td>nonexistent</td>\n",
       "      <td>1.1</td>\n",
       "      <td>93.994</td>\n",
       "      <td>-36.4</td>\n",
       "      <td>4.857</td>\n",
       "      <td>5191.0</td>\n",
       "      <td>no</td>\n",
       "    </tr>\n",
       "  </tbody>\n",
       "</table>\n",
       "</div>"
      ],
      "text/plain": [
       "   age        job  marital    education  default housing loan    contact  \\\n",
       "23  56  housemaid  married     basic.4y       no      no   no  telephone   \n",
       "24  57   services  married  high.school  unknown      no   no  telephone   \n",
       "25  37   services  married  high.school       no     yes   no  telephone   \n",
       "26  40     admin.  married     basic.6y       no      no   no  telephone   \n",
       "27  56   services  married  high.school       no      no  yes  telephone   \n",
       "\n",
       "   month day_of_week campaign  pdays  previous     poutcome  emp.var.rate  \\\n",
       "23   may         mon        1  999.0       0.0  nonexistent           1.1   \n",
       "24   may         mon        1  999.0       0.0  nonexistent           1.1   \n",
       "25   may         mon        1  999.0       0.0  nonexistent           1.1   \n",
       "26   may         mon        1  999.0       0.0  nonexistent           1.1   \n",
       "27   may         mon        1  999.0       0.0  nonexistent           1.1   \n",
       "\n",
       "    cons.price.idx  cons.conf.idx  euribor3m  nr.employed   y  \n",
       "23          93.994          -36.4      4.857       5191.0  no  \n",
       "24          93.994          -36.4      4.857       5191.0  no  \n",
       "25          93.994          -36.4      4.857       5191.0  no  \n",
       "26          93.994          -36.4      4.857       5191.0  no  \n",
       "27          93.994          -36.4      4.857       5191.0  no  "
      ]
     },
     "execution_count": 11,
     "metadata": {},
     "output_type": "execute_result"
    }
   ],
   "source": [
    "# drop the duration column\n",
    "df_full = df_full.drop(labels=['duration'], axis=1)\n",
    "df_full.head()"
   ]
  },
  {
   "cell_type": "code",
   "execution_count": 12,
   "metadata": {},
   "outputs": [
    {
     "data": {
      "text/html": [
       "<div>\n",
       "<style scoped>\n",
       "    .dataframe tbody tr th:only-of-type {\n",
       "        vertical-align: middle;\n",
       "    }\n",
       "\n",
       "    .dataframe tbody tr th {\n",
       "        vertical-align: top;\n",
       "    }\n",
       "\n",
       "    .dataframe thead th {\n",
       "        text-align: right;\n",
       "    }\n",
       "</style>\n",
       "<table border=\"1\" class=\"dataframe\">\n",
       "  <thead>\n",
       "    <tr style=\"text-align: right;\">\n",
       "      <th></th>\n",
       "      <th>age</th>\n",
       "      <th>job</th>\n",
       "      <th>marital</th>\n",
       "      <th>education</th>\n",
       "      <th>default</th>\n",
       "      <th>housing</th>\n",
       "      <th>loan</th>\n",
       "      <th>contact</th>\n",
       "      <th>month</th>\n",
       "      <th>day_of_week</th>\n",
       "      <th>campaign</th>\n",
       "      <th>pdays</th>\n",
       "      <th>previous</th>\n",
       "      <th>poutcome</th>\n",
       "      <th>emp.var.rate</th>\n",
       "      <th>cons.price.idx</th>\n",
       "      <th>cons.conf.idx</th>\n",
       "      <th>euribor3m</th>\n",
       "      <th>nr.employed</th>\n",
       "      <th>y</th>\n",
       "    </tr>\n",
       "  </thead>\n",
       "  <tbody>\n",
       "    <tr>\n",
       "      <th>23</th>\n",
       "      <td>30</td>\n",
       "      <td>blue-collar</td>\n",
       "      <td>married</td>\n",
       "      <td>basic.9y</td>\n",
       "      <td>no</td>\n",
       "      <td>yes</td>\n",
       "      <td>no</td>\n",
       "      <td>cellular</td>\n",
       "      <td>may</td>\n",
       "      <td>fri</td>\n",
       "      <td>2</td>\n",
       "      <td>999.0</td>\n",
       "      <td>0.0</td>\n",
       "      <td>nonexistent</td>\n",
       "      <td>-1.8</td>\n",
       "      <td>92.893</td>\n",
       "      <td>-46.2</td>\n",
       "      <td>1.313</td>\n",
       "      <td>5099.1</td>\n",
       "      <td>no</td>\n",
       "    </tr>\n",
       "    <tr>\n",
       "      <th>24</th>\n",
       "      <td>39</td>\n",
       "      <td>services</td>\n",
       "      <td>single</td>\n",
       "      <td>high.school</td>\n",
       "      <td>no</td>\n",
       "      <td>no</td>\n",
       "      <td>no</td>\n",
       "      <td>telephone</td>\n",
       "      <td>may</td>\n",
       "      <td>fri</td>\n",
       "      <td>4</td>\n",
       "      <td>999.0</td>\n",
       "      <td>0.0</td>\n",
       "      <td>nonexistent</td>\n",
       "      <td>1.1</td>\n",
       "      <td>93.994</td>\n",
       "      <td>-36.4</td>\n",
       "      <td>4.855</td>\n",
       "      <td>5191.0</td>\n",
       "      <td>no</td>\n",
       "    </tr>\n",
       "    <tr>\n",
       "      <th>25</th>\n",
       "      <td>25</td>\n",
       "      <td>services</td>\n",
       "      <td>married</td>\n",
       "      <td>high.school</td>\n",
       "      <td>no</td>\n",
       "      <td>yes</td>\n",
       "      <td>no</td>\n",
       "      <td>telephone</td>\n",
       "      <td>jun</td>\n",
       "      <td>wed</td>\n",
       "      <td>1</td>\n",
       "      <td>999.0</td>\n",
       "      <td>0.0</td>\n",
       "      <td>nonexistent</td>\n",
       "      <td>1.4</td>\n",
       "      <td>94.465</td>\n",
       "      <td>-41.8</td>\n",
       "      <td>4.962</td>\n",
       "      <td>5228.1</td>\n",
       "      <td>no</td>\n",
       "    </tr>\n",
       "    <tr>\n",
       "      <th>26</th>\n",
       "      <td>38</td>\n",
       "      <td>services</td>\n",
       "      <td>married</td>\n",
       "      <td>basic.9y</td>\n",
       "      <td>no</td>\n",
       "      <td>unknown</td>\n",
       "      <td>unknown</td>\n",
       "      <td>telephone</td>\n",
       "      <td>jun</td>\n",
       "      <td>fri</td>\n",
       "      <td>3</td>\n",
       "      <td>999.0</td>\n",
       "      <td>0.0</td>\n",
       "      <td>nonexistent</td>\n",
       "      <td>1.4</td>\n",
       "      <td>94.465</td>\n",
       "      <td>-41.8</td>\n",
       "      <td>4.959</td>\n",
       "      <td>5228.1</td>\n",
       "      <td>no</td>\n",
       "    </tr>\n",
       "    <tr>\n",
       "      <th>27</th>\n",
       "      <td>47</td>\n",
       "      <td>admin.</td>\n",
       "      <td>married</td>\n",
       "      <td>university.degree</td>\n",
       "      <td>no</td>\n",
       "      <td>yes</td>\n",
       "      <td>no</td>\n",
       "      <td>cellular</td>\n",
       "      <td>nov</td>\n",
       "      <td>mon</td>\n",
       "      <td>1</td>\n",
       "      <td>999.0</td>\n",
       "      <td>0.0</td>\n",
       "      <td>nonexistent</td>\n",
       "      <td>-0.1</td>\n",
       "      <td>93.200</td>\n",
       "      <td>-42.0</td>\n",
       "      <td>4.191</td>\n",
       "      <td>5195.8</td>\n",
       "      <td>no</td>\n",
       "    </tr>\n",
       "  </tbody>\n",
       "</table>\n",
       "</div>"
      ],
      "text/plain": [
       "   age          job  marital          education default  housing     loan  \\\n",
       "23  30  blue-collar  married           basic.9y      no      yes       no   \n",
       "24  39     services   single        high.school      no       no       no   \n",
       "25  25     services  married        high.school      no      yes       no   \n",
       "26  38     services  married           basic.9y      no  unknown  unknown   \n",
       "27  47       admin.  married  university.degree      no      yes       no   \n",
       "\n",
       "      contact month day_of_week campaign  pdays  previous     poutcome  \\\n",
       "23   cellular   may         fri        2  999.0       0.0  nonexistent   \n",
       "24  telephone   may         fri        4  999.0       0.0  nonexistent   \n",
       "25  telephone   jun         wed        1  999.0       0.0  nonexistent   \n",
       "26  telephone   jun         fri        3  999.0       0.0  nonexistent   \n",
       "27   cellular   nov         mon        1  999.0       0.0  nonexistent   \n",
       "\n",
       "    emp.var.rate  cons.price.idx  cons.conf.idx  euribor3m  nr.employed   y  \n",
       "23          -1.8          92.893          -46.2      1.313       5099.1  no  \n",
       "24           1.1          93.994          -36.4      4.855       5191.0  no  \n",
       "25           1.4          94.465          -41.8      4.962       5228.1  no  \n",
       "26           1.4          94.465          -41.8      4.959       5228.1  no  \n",
       "27          -0.1          93.200          -42.0      4.191       5195.8  no  "
      ]
     },
     "execution_count": 12,
     "metadata": {},
     "output_type": "execute_result"
    }
   ],
   "source": [
    "# drop the duration column\n",
    "df_small = df_small.drop(labels=['duration'], axis=1)\n",
    "df_small.head()"
   ]
  },
  {
   "cell_type": "markdown",
   "metadata": {},
   "source": [
    "### 4. Work with the entire larger dataset and classify the data. \n",
    "Take note of the accuracy, RMS error and the ROC Area. In addition, take note of the time."
   ]
  },
  {
   "cell_type": "code",
   "execution_count": 13,
   "metadata": {},
   "outputs": [
    {
     "data": {
      "text/html": [
       "<div>\n",
       "<style scoped>\n",
       "    .dataframe tbody tr th:only-of-type {\n",
       "        vertical-align: middle;\n",
       "    }\n",
       "\n",
       "    .dataframe tbody tr th {\n",
       "        vertical-align: top;\n",
       "    }\n",
       "\n",
       "    .dataframe thead th {\n",
       "        text-align: right;\n",
       "    }\n",
       "</style>\n",
       "<table border=\"1\" class=\"dataframe\">\n",
       "  <thead>\n",
       "    <tr style=\"text-align: right;\">\n",
       "      <th></th>\n",
       "      <th>pdays</th>\n",
       "      <th>previous</th>\n",
       "      <th>emp.var.rate</th>\n",
       "      <th>cons.price.idx</th>\n",
       "      <th>cons.conf.idx</th>\n",
       "      <th>euribor3m</th>\n",
       "      <th>nr.employed</th>\n",
       "    </tr>\n",
       "  </thead>\n",
       "  <tbody>\n",
       "    <tr>\n",
       "      <th>count</th>\n",
       "      <td>41188.000000</td>\n",
       "      <td>41188.000000</td>\n",
       "      <td>41188.000000</td>\n",
       "      <td>41188.000000</td>\n",
       "      <td>41188.000000</td>\n",
       "      <td>41188.000000</td>\n",
       "      <td>41188.000000</td>\n",
       "    </tr>\n",
       "    <tr>\n",
       "      <th>mean</th>\n",
       "      <td>962.475454</td>\n",
       "      <td>0.172963</td>\n",
       "      <td>0.081886</td>\n",
       "      <td>93.575664</td>\n",
       "      <td>-40.502600</td>\n",
       "      <td>3.621291</td>\n",
       "      <td>5167.035911</td>\n",
       "    </tr>\n",
       "    <tr>\n",
       "      <th>std</th>\n",
       "      <td>186.910907</td>\n",
       "      <td>0.494901</td>\n",
       "      <td>1.570960</td>\n",
       "      <td>0.578840</td>\n",
       "      <td>4.628198</td>\n",
       "      <td>1.734447</td>\n",
       "      <td>72.251528</td>\n",
       "    </tr>\n",
       "    <tr>\n",
       "      <th>min</th>\n",
       "      <td>0.000000</td>\n",
       "      <td>0.000000</td>\n",
       "      <td>-3.400000</td>\n",
       "      <td>92.201000</td>\n",
       "      <td>-50.800000</td>\n",
       "      <td>0.634000</td>\n",
       "      <td>4963.600000</td>\n",
       "    </tr>\n",
       "    <tr>\n",
       "      <th>25%</th>\n",
       "      <td>999.000000</td>\n",
       "      <td>0.000000</td>\n",
       "      <td>-1.800000</td>\n",
       "      <td>93.075000</td>\n",
       "      <td>-42.700000</td>\n",
       "      <td>1.344000</td>\n",
       "      <td>5099.100000</td>\n",
       "    </tr>\n",
       "    <tr>\n",
       "      <th>50%</th>\n",
       "      <td>999.000000</td>\n",
       "      <td>0.000000</td>\n",
       "      <td>1.100000</td>\n",
       "      <td>93.749000</td>\n",
       "      <td>-41.800000</td>\n",
       "      <td>4.857000</td>\n",
       "      <td>5191.000000</td>\n",
       "    </tr>\n",
       "    <tr>\n",
       "      <th>75%</th>\n",
       "      <td>999.000000</td>\n",
       "      <td>0.000000</td>\n",
       "      <td>1.400000</td>\n",
       "      <td>93.994000</td>\n",
       "      <td>-36.400000</td>\n",
       "      <td>4.961000</td>\n",
       "      <td>5228.100000</td>\n",
       "    </tr>\n",
       "    <tr>\n",
       "      <th>max</th>\n",
       "      <td>999.000000</td>\n",
       "      <td>7.000000</td>\n",
       "      <td>1.400000</td>\n",
       "      <td>94.767000</td>\n",
       "      <td>-26.900000</td>\n",
       "      <td>5.045000</td>\n",
       "      <td>5228.100000</td>\n",
       "    </tr>\n",
       "  </tbody>\n",
       "</table>\n",
       "</div>"
      ],
      "text/plain": [
       "              pdays      previous  emp.var.rate  cons.price.idx  \\\n",
       "count  41188.000000  41188.000000  41188.000000    41188.000000   \n",
       "mean     962.475454      0.172963      0.081886       93.575664   \n",
       "std      186.910907      0.494901      1.570960        0.578840   \n",
       "min        0.000000      0.000000     -3.400000       92.201000   \n",
       "25%      999.000000      0.000000     -1.800000       93.075000   \n",
       "50%      999.000000      0.000000      1.100000       93.749000   \n",
       "75%      999.000000      0.000000      1.400000       93.994000   \n",
       "max      999.000000      7.000000      1.400000       94.767000   \n",
       "\n",
       "       cons.conf.idx     euribor3m   nr.employed  \n",
       "count   41188.000000  41188.000000  41188.000000  \n",
       "mean      -40.502600      3.621291   5167.035911  \n",
       "std         4.628198      1.734447     72.251528  \n",
       "min       -50.800000      0.634000   4963.600000  \n",
       "25%       -42.700000      1.344000   5099.100000  \n",
       "50%       -41.800000      4.857000   5191.000000  \n",
       "75%       -36.400000      4.961000   5228.100000  \n",
       "max       -26.900000      5.045000   5228.100000  "
      ]
     },
     "execution_count": 13,
     "metadata": {},
     "output_type": "execute_result"
    }
   ],
   "source": [
    "# Create X(data/feature variables)\n",
    "X = df_full.drop(\"y\", axis=1)\n",
    "global_X=X\n",
    "X.describe()"
   ]
  },
  {
   "cell_type": "markdown",
   "metadata": {},
   "source": [
    "### Convert categorical features into numeric features"
   ]
  },
  {
   "cell_type": "code",
   "execution_count": 14,
   "metadata": {},
   "outputs": [
    {
     "data": {
      "text/html": [
       "<div>\n",
       "<style scoped>\n",
       "    .dataframe tbody tr th:only-of-type {\n",
       "        vertical-align: middle;\n",
       "    }\n",
       "\n",
       "    .dataframe tbody tr th {\n",
       "        vertical-align: top;\n",
       "    }\n",
       "\n",
       "    .dataframe thead th {\n",
       "        text-align: right;\n",
       "    }\n",
       "</style>\n",
       "<table border=\"1\" class=\"dataframe\">\n",
       "  <thead>\n",
       "    <tr style=\"text-align: right;\">\n",
       "      <th></th>\n",
       "      <th>0</th>\n",
       "      <th>1</th>\n",
       "      <th>2</th>\n",
       "      <th>3</th>\n",
       "      <th>4</th>\n",
       "      <th>5</th>\n",
       "      <th>6</th>\n",
       "      <th>7</th>\n",
       "      <th>8</th>\n",
       "      <th>9</th>\n",
       "      <th>...</th>\n",
       "      <th>52</th>\n",
       "      <th>53</th>\n",
       "      <th>54</th>\n",
       "      <th>55</th>\n",
       "      <th>56</th>\n",
       "      <th>57</th>\n",
       "      <th>58</th>\n",
       "      <th>59</th>\n",
       "      <th>60</th>\n",
       "      <th>61</th>\n",
       "    </tr>\n",
       "  </thead>\n",
       "  <tbody>\n",
       "    <tr>\n",
       "      <th>0</th>\n",
       "      <td>0</td>\n",
       "      <td>0</td>\n",
       "      <td>0</td>\n",
       "      <td>1</td>\n",
       "      <td>0</td>\n",
       "      <td>0</td>\n",
       "      <td>0</td>\n",
       "      <td>0</td>\n",
       "      <td>0</td>\n",
       "      <td>0</td>\n",
       "      <td>...</td>\n",
       "      <td>0</td>\n",
       "      <td>56</td>\n",
       "      <td>1</td>\n",
       "      <td>999</td>\n",
       "      <td>0</td>\n",
       "      <td>1.1</td>\n",
       "      <td>93.994</td>\n",
       "      <td>-36.4</td>\n",
       "      <td>4.857</td>\n",
       "      <td>5191</td>\n",
       "    </tr>\n",
       "    <tr>\n",
       "      <th>1</th>\n",
       "      <td>0</td>\n",
       "      <td>0</td>\n",
       "      <td>0</td>\n",
       "      <td>0</td>\n",
       "      <td>0</td>\n",
       "      <td>0</td>\n",
       "      <td>0</td>\n",
       "      <td>1</td>\n",
       "      <td>0</td>\n",
       "      <td>0</td>\n",
       "      <td>...</td>\n",
       "      <td>0</td>\n",
       "      <td>57</td>\n",
       "      <td>1</td>\n",
       "      <td>999</td>\n",
       "      <td>0</td>\n",
       "      <td>1.1</td>\n",
       "      <td>93.994</td>\n",
       "      <td>-36.4</td>\n",
       "      <td>4.857</td>\n",
       "      <td>5191</td>\n",
       "    </tr>\n",
       "    <tr>\n",
       "      <th>2</th>\n",
       "      <td>0</td>\n",
       "      <td>0</td>\n",
       "      <td>0</td>\n",
       "      <td>0</td>\n",
       "      <td>0</td>\n",
       "      <td>0</td>\n",
       "      <td>0</td>\n",
       "      <td>1</td>\n",
       "      <td>0</td>\n",
       "      <td>0</td>\n",
       "      <td>...</td>\n",
       "      <td>0</td>\n",
       "      <td>37</td>\n",
       "      <td>1</td>\n",
       "      <td>999</td>\n",
       "      <td>0</td>\n",
       "      <td>1.1</td>\n",
       "      <td>93.994</td>\n",
       "      <td>-36.4</td>\n",
       "      <td>4.857</td>\n",
       "      <td>5191</td>\n",
       "    </tr>\n",
       "    <tr>\n",
       "      <th>3</th>\n",
       "      <td>1</td>\n",
       "      <td>0</td>\n",
       "      <td>0</td>\n",
       "      <td>0</td>\n",
       "      <td>0</td>\n",
       "      <td>0</td>\n",
       "      <td>0</td>\n",
       "      <td>0</td>\n",
       "      <td>0</td>\n",
       "      <td>0</td>\n",
       "      <td>...</td>\n",
       "      <td>0</td>\n",
       "      <td>40</td>\n",
       "      <td>1</td>\n",
       "      <td>999</td>\n",
       "      <td>0</td>\n",
       "      <td>1.1</td>\n",
       "      <td>93.994</td>\n",
       "      <td>-36.4</td>\n",
       "      <td>4.857</td>\n",
       "      <td>5191</td>\n",
       "    </tr>\n",
       "    <tr>\n",
       "      <th>4</th>\n",
       "      <td>0</td>\n",
       "      <td>0</td>\n",
       "      <td>0</td>\n",
       "      <td>0</td>\n",
       "      <td>0</td>\n",
       "      <td>0</td>\n",
       "      <td>0</td>\n",
       "      <td>1</td>\n",
       "      <td>0</td>\n",
       "      <td>0</td>\n",
       "      <td>...</td>\n",
       "      <td>0</td>\n",
       "      <td>56</td>\n",
       "      <td>1</td>\n",
       "      <td>999</td>\n",
       "      <td>0</td>\n",
       "      <td>1.1</td>\n",
       "      <td>93.994</td>\n",
       "      <td>-36.4</td>\n",
       "      <td>4.857</td>\n",
       "      <td>5191</td>\n",
       "    </tr>\n",
       "    <tr>\n",
       "      <th>...</th>\n",
       "      <td>...</td>\n",
       "      <td>...</td>\n",
       "      <td>...</td>\n",
       "      <td>...</td>\n",
       "      <td>...</td>\n",
       "      <td>...</td>\n",
       "      <td>...</td>\n",
       "      <td>...</td>\n",
       "      <td>...</td>\n",
       "      <td>...</td>\n",
       "      <td>...</td>\n",
       "      <td>...</td>\n",
       "      <td>...</td>\n",
       "      <td>...</td>\n",
       "      <td>...</td>\n",
       "      <td>...</td>\n",
       "      <td>...</td>\n",
       "      <td>...</td>\n",
       "      <td>...</td>\n",
       "      <td>...</td>\n",
       "      <td>...</td>\n",
       "    </tr>\n",
       "    <tr>\n",
       "      <th>41183</th>\n",
       "      <td>0</td>\n",
       "      <td>0</td>\n",
       "      <td>0</td>\n",
       "      <td>0</td>\n",
       "      <td>0</td>\n",
       "      <td>1</td>\n",
       "      <td>0</td>\n",
       "      <td>0</td>\n",
       "      <td>0</td>\n",
       "      <td>0</td>\n",
       "      <td>...</td>\n",
       "      <td>0</td>\n",
       "      <td>73</td>\n",
       "      <td>1</td>\n",
       "      <td>999</td>\n",
       "      <td>0</td>\n",
       "      <td>-1.1</td>\n",
       "      <td>94.767</td>\n",
       "      <td>-50.8</td>\n",
       "      <td>1.028</td>\n",
       "      <td>4963.6</td>\n",
       "    </tr>\n",
       "    <tr>\n",
       "      <th>41184</th>\n",
       "      <td>0</td>\n",
       "      <td>1</td>\n",
       "      <td>0</td>\n",
       "      <td>0</td>\n",
       "      <td>0</td>\n",
       "      <td>0</td>\n",
       "      <td>0</td>\n",
       "      <td>0</td>\n",
       "      <td>0</td>\n",
       "      <td>0</td>\n",
       "      <td>...</td>\n",
       "      <td>0</td>\n",
       "      <td>46</td>\n",
       "      <td>1</td>\n",
       "      <td>999</td>\n",
       "      <td>0</td>\n",
       "      <td>-1.1</td>\n",
       "      <td>94.767</td>\n",
       "      <td>-50.8</td>\n",
       "      <td>1.028</td>\n",
       "      <td>4963.6</td>\n",
       "    </tr>\n",
       "    <tr>\n",
       "      <th>41185</th>\n",
       "      <td>0</td>\n",
       "      <td>0</td>\n",
       "      <td>0</td>\n",
       "      <td>0</td>\n",
       "      <td>0</td>\n",
       "      <td>1</td>\n",
       "      <td>0</td>\n",
       "      <td>0</td>\n",
       "      <td>0</td>\n",
       "      <td>0</td>\n",
       "      <td>...</td>\n",
       "      <td>0</td>\n",
       "      <td>56</td>\n",
       "      <td>2</td>\n",
       "      <td>999</td>\n",
       "      <td>0</td>\n",
       "      <td>-1.1</td>\n",
       "      <td>94.767</td>\n",
       "      <td>-50.8</td>\n",
       "      <td>1.028</td>\n",
       "      <td>4963.6</td>\n",
       "    </tr>\n",
       "    <tr>\n",
       "      <th>41186</th>\n",
       "      <td>0</td>\n",
       "      <td>0</td>\n",
       "      <td>0</td>\n",
       "      <td>0</td>\n",
       "      <td>0</td>\n",
       "      <td>0</td>\n",
       "      <td>0</td>\n",
       "      <td>0</td>\n",
       "      <td>0</td>\n",
       "      <td>1</td>\n",
       "      <td>...</td>\n",
       "      <td>0</td>\n",
       "      <td>44</td>\n",
       "      <td>1</td>\n",
       "      <td>999</td>\n",
       "      <td>0</td>\n",
       "      <td>-1.1</td>\n",
       "      <td>94.767</td>\n",
       "      <td>-50.8</td>\n",
       "      <td>1.028</td>\n",
       "      <td>4963.6</td>\n",
       "    </tr>\n",
       "    <tr>\n",
       "      <th>41187</th>\n",
       "      <td>0</td>\n",
       "      <td>0</td>\n",
       "      <td>0</td>\n",
       "      <td>0</td>\n",
       "      <td>0</td>\n",
       "      <td>1</td>\n",
       "      <td>0</td>\n",
       "      <td>0</td>\n",
       "      <td>0</td>\n",
       "      <td>0</td>\n",
       "      <td>...</td>\n",
       "      <td>0</td>\n",
       "      <td>74</td>\n",
       "      <td>3</td>\n",
       "      <td>999</td>\n",
       "      <td>1</td>\n",
       "      <td>-1.1</td>\n",
       "      <td>94.767</td>\n",
       "      <td>-50.8</td>\n",
       "      <td>1.028</td>\n",
       "      <td>4963.6</td>\n",
       "    </tr>\n",
       "  </tbody>\n",
       "</table>\n",
       "<p>41188 rows × 62 columns</p>\n",
       "</div>"
      ],
      "text/plain": [
       "      0  1  2  3  4  5  6  7  8  9   ... 52  53 54   55 56   57      58    59  \\\n",
       "0      0  0  0  1  0  0  0  0  0  0  ...  0  56  1  999  0  1.1  93.994 -36.4   \n",
       "1      0  0  0  0  0  0  0  1  0  0  ...  0  57  1  999  0  1.1  93.994 -36.4   \n",
       "2      0  0  0  0  0  0  0  1  0  0  ...  0  37  1  999  0  1.1  93.994 -36.4   \n",
       "3      1  0  0  0  0  0  0  0  0  0  ...  0  40  1  999  0  1.1  93.994 -36.4   \n",
       "4      0  0  0  0  0  0  0  1  0  0  ...  0  56  1  999  0  1.1  93.994 -36.4   \n",
       "...   .. .. .. .. .. .. .. .. .. ..  ... ..  .. ..  ... ..  ...     ...   ...   \n",
       "41183  0  0  0  0  0  1  0  0  0  0  ...  0  73  1  999  0 -1.1  94.767 -50.8   \n",
       "41184  0  1  0  0  0  0  0  0  0  0  ...  0  46  1  999  0 -1.1  94.767 -50.8   \n",
       "41185  0  0  0  0  0  1  0  0  0  0  ...  0  56  2  999  0 -1.1  94.767 -50.8   \n",
       "41186  0  0  0  0  0  0  0  0  0  1  ...  0  44  1  999  0 -1.1  94.767 -50.8   \n",
       "41187  0  0  0  0  0  1  0  0  0  0  ...  0  74  3  999  1 -1.1  94.767 -50.8   \n",
       "\n",
       "          60      61  \n",
       "0      4.857    5191  \n",
       "1      4.857    5191  \n",
       "2      4.857    5191  \n",
       "3      4.857    5191  \n",
       "4      4.857    5191  \n",
       "...      ...     ...  \n",
       "41183  1.028  4963.6  \n",
       "41184  1.028  4963.6  \n",
       "41185  1.028  4963.6  \n",
       "41186  1.028  4963.6  \n",
       "41187  1.028  4963.6  \n",
       "\n",
       "[41188 rows x 62 columns]"
      ]
     },
     "execution_count": 14,
     "metadata": {},
     "output_type": "execute_result"
    }
   ],
   "source": [
    "from sklearn.preprocessing import OneHotEncoder\n",
    "from sklearn.compose import ColumnTransformer\n",
    "\n",
    "categorical_features = ['job','marital','education', 'default', 'housing', 'loan', 'contact',\n",
    "        'month', 'day_of_week', 'poutcome'\n",
    "        ]\n",
    "one_hot = OneHotEncoder()\n",
    "transformer = ColumnTransformer([(\"one_hot\", one_hot, categorical_features)],\n",
    "                                remainder=\"passthrough\")\n",
    "transformed_X = transformer.fit_transform(X)\n",
    "pd.DataFrame(transformed_X)"
   ]
  },
  {
   "cell_type": "code",
   "execution_count": 15,
   "metadata": {},
   "outputs": [
    {
     "data": {
      "text/plain": [
       "count     41188\n",
       "unique        2\n",
       "top          no\n",
       "freq      36548\n",
       "Name: y, dtype: object"
      ]
     },
     "execution_count": 15,
     "metadata": {},
     "output_type": "execute_result"
    }
   ],
   "source": [
    "# Create Y(labels)\n",
    "y = df_full[\"y\"]\n",
    "global_y=y\n",
    "y.describe()"
   ]
  },
  {
   "cell_type": "markdown",
   "metadata": {},
   "source": [
    "## split the training and test data"
   ]
  },
  {
   "cell_type": "code",
   "execution_count": 16,
   "metadata": {},
   "outputs": [
    {
     "name": "stdout",
     "output_type": "stream",
     "text": [
      "X_Training data\n",
      " [[0.0 0.0 0.0 ... -38.3 0.904 4991.6]\n",
      " [0.0 1.0 0.0 ... -46.2 1.334 5099.1]\n",
      " [0.0 0.0 0.0 ... -42.7 4.962 5228.1]\n",
      " ...\n",
      " [0.0 0.0 0.0 ... -36.1 4.9639999999999995 5228.1]\n",
      " [0.0 0.0 0.0 ... -47.1 1.365 5099.1]\n",
      " [1.0 0.0 0.0 ... -36.4 4.857 5191.0]]\n",
      "X_Test data\n",
      " [[0.0 1.0 0.0 ... -46.2 1.354 5099.1]\n",
      " [0.0 0.0 0.0 ... -30.1 0.716 5017.5]\n",
      " [0.0 0.0 0.0 ... -47.1 1.405 5099.1]\n",
      " ...\n",
      " [0.0 1.0 0.0 ... -46.2 1.25 5099.1]\n",
      " [0.0 0.0 0.0 ... -36.1 4.967 5228.1]\n",
      " [1.0 0.0 0.0 ... -36.1 4.963 5228.1]]\n",
      "y_Training data\n",
      " 40458    yes\n",
      "31372     no\n",
      "16772     no\n",
      "21751     no\n",
      "4948      no\n",
      "        ... \n",
      "20129     no\n",
      "23039     no\n",
      "22044     no\n",
      "30165     no\n",
      "5665      no\n",
      "Name: y, Length: 28831, dtype: object\n",
      "y_Test data\n",
      " 30503     no\n",
      "38960    yes\n",
      "29812     no\n",
      "22691     no\n",
      "25283     no\n",
      "        ... \n",
      "27067     no\n",
      "25038     no\n",
      "35100     no\n",
      "19278     no\n",
      "21238     no\n",
      "Name: y, Length: 12357, dtype: object\n"
     ]
    }
   ],
   "source": [
    "from sklearn.model_selection import train_test_split\n",
    "\n",
    "X_train, X_test, y_train, y_test = train_test_split(transformed_X, y, test_size=0.3, shuffle=True)\n",
    "print(\"X_Training data\\n\", X_train)\n",
    "print(\"X_Test data\\n\", X_test)\n",
    "print(\"y_Training data\\n\", y_train)\n",
    "print(\"y_Test data\\n\",  y_test)"
   ]
  },
  {
   "cell_type": "markdown",
   "metadata": {},
   "source": [
    "### 4.1. import the ML algorithms"
   ]
  },
  {
   "cell_type": "markdown",
   "metadata": {},
   "source": [
    "#### KNN"
   ]
  },
  {
   "cell_type": "code",
   "execution_count": 17,
   "metadata": {},
   "outputs": [],
   "source": [
    "from sklearn.neighbors import KNeighborsClassifier\n",
    "neigh_3 = KNeighborsClassifier(n_neighbors=3)\n",
    "neigh_20 = KNeighborsClassifier(n_neighbors=20)\n",
    "neigh_30 = KNeighborsClassifier(n_neighbors=30)\n",
    "neigh_40 = KNeighborsClassifier(n_neighbors=40)"
   ]
  },
  {
   "cell_type": "markdown",
   "metadata": {},
   "source": [
    "#### Svm"
   ]
  },
  {
   "cell_type": "code",
   "execution_count": 18,
   "metadata": {},
   "outputs": [],
   "source": [
    "from sklearn import svm"
   ]
  },
  {
   "cell_type": "markdown",
   "metadata": {},
   "source": [
    "#### Neural network"
   ]
  },
  {
   "cell_type": "code",
   "execution_count": 19,
   "metadata": {},
   "outputs": [],
   "source": [
    "from sklearn.neural_network import MLPClassifier"
   ]
  },
  {
   "cell_type": "markdown",
   "metadata": {},
   "source": [
    "#### Decision tree"
   ]
  },
  {
   "cell_type": "code",
   "execution_count": 20,
   "metadata": {},
   "outputs": [
    {
     "data": {
      "text/plain": [
       "{'ccp_alpha': 0.0,\n",
       " 'class_weight': None,\n",
       " 'criterion': 'gini',\n",
       " 'max_depth': None,\n",
       " 'max_features': None,\n",
       " 'max_leaf_nodes': None,\n",
       " 'min_impurity_decrease': 0.0,\n",
       " 'min_impurity_split': None,\n",
       " 'min_samples_leaf': 1,\n",
       " 'min_samples_split': 2,\n",
       " 'min_weight_fraction_leaf': 0.0,\n",
       " 'presort': 'deprecated',\n",
       " 'random_state': 42,\n",
       " 'splitter': 'best'}"
      ]
     },
     "execution_count": 20,
     "metadata": {},
     "output_type": "execute_result"
    }
   ],
   "source": [
    "from sklearn import tree\n",
    "clf = tree.DecisionTreeClassifier(random_state=42)\n",
    "clf.get_params()"
   ]
  },
  {
   "cell_type": "markdown",
   "metadata": {},
   "source": [
    "### 4.2. Fitting the algorithms"
   ]
  },
  {
   "cell_type": "markdown",
   "metadata": {},
   "source": [
    "#### Decision tree"
   ]
  },
  {
   "cell_type": "code",
   "execution_count": 21,
   "metadata": {},
   "outputs": [
    {
     "name": "stdout",
     "output_type": "stream",
     "text": [
      "Training time: 0.44374537467956543s\n"
     ]
    }
   ],
   "source": [
    "import time\n",
    "\n",
    "start = time.time()\n",
    "clf.fit(X_train, y_train)\n",
    "stop = time.time()\n",
    "print(f\"Training time: {stop - start}s\")"
   ]
  },
  {
   "cell_type": "code",
   "execution_count": 22,
   "metadata": {},
   "outputs": [
    {
     "data": {
      "text/plain": [
       "array(['no', 'no', 'no', ..., 'no', 'no', 'no'], dtype=object)"
      ]
     },
     "execution_count": 22,
     "metadata": {},
     "output_type": "execute_result"
    }
   ],
   "source": [
    "y_preds = clf.predict(X_test)\n",
    "y_preds"
   ]
  },
  {
   "cell_type": "markdown",
   "metadata": {},
   "source": [
    "### Neural network"
   ]
  },
  {
   "cell_type": "code",
   "execution_count": 23,
   "metadata": {},
   "outputs": [
    {
     "name": "stdout",
     "output_type": "stream",
     "text": [
      "Training time: 3.7608656883239746s\n"
     ]
    },
    {
     "data": {
      "text/plain": [
       "array(['no', 'no', 'no', ..., 'no', 'no', 'no'], dtype='<U3')"
      ]
     },
     "execution_count": 23,
     "metadata": {},
     "output_type": "execute_result"
    }
   ],
   "source": [
    "start = time.time()\n",
    "mlp = MLPClassifier(random_state=1, max_iter=300).fit(X_train, y_train)\n",
    "stop = time.time()\n",
    "print(f\"Training time: {stop - start}s\")\n",
    "mlp.predict_proba(X_test)\n",
    "MLP_preds = mlp.predict(X_test)\n",
    "MLP_preds"
   ]
  },
  {
   "cell_type": "markdown",
   "metadata": {},
   "source": [
    "### SVM"
   ]
  },
  {
   "cell_type": "code",
   "execution_count": 24,
   "metadata": {},
   "outputs": [
    {
     "name": "stdout",
     "output_type": "stream",
     "text": [
      "Training time: 21.16487979888916s\n"
     ]
    },
    {
     "data": {
      "text/plain": [
       "array(['no', 'no', 'no', ..., 'no', 'no', 'no'], dtype=object)"
      ]
     },
     "execution_count": 24,
     "metadata": {},
     "output_type": "execute_result"
    }
   ],
   "source": [
    "svm_clf = svm.SVC()\n",
    "start = time.time()\n",
    "svm_clf.fit(X_train, y_train)\n",
    "stop = time.time()\n",
    "print(f\"Training time: {stop - start}s\")\n",
    "SVC_preds = svm_clf.predict(X_test)\n",
    "SVC_preds"
   ]
  },
  {
   "cell_type": "markdown",
   "metadata": {},
   "source": [
    "### KNN"
   ]
  },
  {
   "cell_type": "code",
   "execution_count": 25,
   "metadata": {},
   "outputs": [],
   "source": [
    "start3 = time.time()\n",
    "neigh_3.fit(X_train, y_train)\n",
    "stop3 = time.time()\n",
    "start20 = time.time()\n",
    "neigh_20.fit(X_train, y_train)\n",
    "stop20 = time.time()\n",
    "start30 = time.time()\n",
    "neigh_30.fit(X_train, y_train)\n",
    "stop30 = time.time()\n",
    "start40 = time.time()\n",
    "neigh_40.fit(X_train, y_train)\n",
    "stop40 = time.time()"
   ]
  },
  {
   "cell_type": "code",
   "execution_count": 26,
   "metadata": {},
   "outputs": [
    {
     "name": "stdout",
     "output_type": "stream",
     "text": [
      "KNN with 3 neighbours ['yes' 'yes' 'no' ... 'no' 'no' 'no']\n",
      "Training time: 2.1690399646759033s\n"
     ]
    }
   ],
   "source": [
    "print(\"KNN with 3 neighbours\",neigh_3.predict(X_test))\n",
    "print(f\"Training time: {stop3 - start3}s\")\n",
    "KNN_3_preds = neigh_3.predict(X_test)"
   ]
  },
  {
   "cell_type": "code",
   "execution_count": 27,
   "metadata": {},
   "outputs": [
    {
     "name": "stdout",
     "output_type": "stream",
     "text": [
      "KNN with 20 neighbours ['no' 'no' 'no' ... 'no' 'no' 'no']\n",
      "Training time: 2.922330856323242s\n"
     ]
    }
   ],
   "source": [
    "print(\"KNN with 20 neighbours\",neigh_20.predict(X_test))\n",
    "print(f\"Training time: {stop20 - start20}s\")\n",
    "KNN_20_preds = neigh_20.predict(X_test)"
   ]
  },
  {
   "cell_type": "code",
   "execution_count": 28,
   "metadata": {},
   "outputs": [
    {
     "name": "stdout",
     "output_type": "stream",
     "text": [
      "KNN with 30 neighbours ['no' 'no' 'no' ... 'no' 'no' 'no']\n",
      "Training time: 3.6229233741760254s\n"
     ]
    }
   ],
   "source": [
    "print(\"KNN with 30 neighbours\",neigh_30.predict(X_test))\n",
    "print(f\"Training time: {stop30 - start30}s\")\n",
    "KNN_30_preds = neigh_30.predict(X_test)"
   ]
  },
  {
   "cell_type": "code",
   "execution_count": 29,
   "metadata": {},
   "outputs": [
    {
     "name": "stdout",
     "output_type": "stream",
     "text": [
      "KNN with 40 neighbours ['no' 'no' 'no' ... 'no' 'no' 'no']\n",
      "Training time: 3.8637871742248535s\n"
     ]
    }
   ],
   "source": [
    "print(\"KNN with 40 neighbours\",neigh_40.predict(X_test))\n",
    "print(f\"Training time: {stop40 - start40}s\")\n",
    "KNN_40_preds = neigh_40.predict(X_test)"
   ]
  },
  {
   "cell_type": "markdown",
   "metadata": {},
   "source": [
    "## 4.3. Evaluating the models' perfomace"
   ]
  },
  {
   "cell_type": "markdown",
   "metadata": {},
   "source": [
    "### Decision tree"
   ]
  },
  {
   "cell_type": "code",
   "execution_count": 30,
   "metadata": {},
   "outputs": [
    {
     "data": {
      "text/plain": [
       "0.8447843327668528"
      ]
     },
     "execution_count": 30,
     "metadata": {},
     "output_type": "execute_result"
    }
   ],
   "source": [
    "# evaluate perfomance on test data\n",
    "clf.score(X_test, y_test)"
   ]
  },
  {
   "cell_type": "code",
   "execution_count": 31,
   "metadata": {},
   "outputs": [
    {
     "name": "stdout",
     "output_type": "stream",
     "text": [
      "0.84 accuracy with a standard deviation of 0.01\n"
     ]
    }
   ],
   "source": [
    "# using 10 fold cross validation\n",
    "from sklearn.model_selection import cross_val_score\n",
    "scores = cross_val_score(clf, X_test, y_test, cv=10)\n",
    "print(f\"%0.2f accuracy with a standard deviation of %0.2f\" % (scores.mean(), scores.std()))"
   ]
  },
  {
   "cell_type": "code",
   "execution_count": 32,
   "metadata": {},
   "outputs": [
    {
     "name": "stdout",
     "output_type": "stream",
     "text": [
      "Feature: 0, Score: 0.02074\n",
      "Feature: 1, Score: 0.00946\n",
      "Feature: 2, Score: 0.00736\n",
      "Feature: 3, Score: 0.00387\n",
      "Feature: 4, Score: 0.01040\n",
      "Feature: 5, Score: 0.00482\n",
      "Feature: 6, Score: 0.00623\n",
      "Feature: 7, Score: 0.01087\n",
      "Feature: 8, Score: 0.00526\n",
      "Feature: 9, Score: 0.01533\n",
      "Feature: 10, Score: 0.00523\n",
      "Feature: 11, Score: 0.00331\n",
      "Feature: 12, Score: 0.00753\n",
      "Feature: 13, Score: 0.01575\n",
      "Feature: 14, Score: 0.01733\n",
      "Feature: 15, Score: 0.00015\n",
      "Feature: 16, Score: 0.00984\n",
      "Feature: 17, Score: 0.00729\n",
      "Feature: 18, Score: 0.01509\n",
      "Feature: 19, Score: 0.01711\n",
      "Feature: 20, Score: 0.00058\n",
      "Feature: 21, Score: 0.01242\n",
      "Feature: 22, Score: 0.01781\n",
      "Feature: 23, Score: 0.00710\n",
      "Feature: 24, Score: 0.00635\n",
      "Feature: 25, Score: 0.00544\n",
      "Feature: 26, Score: 0.00000\n",
      "Feature: 27, Score: 0.02433\n",
      "Feature: 28, Score: 0.00288\n",
      "Feature: 29, Score: 0.02626\n",
      "Feature: 30, Score: 0.01420\n",
      "Feature: 31, Score: 0.00149\n",
      "Feature: 32, Score: 0.01701\n",
      "Feature: 33, Score: 0.00661\n",
      "Feature: 34, Score: 0.00150\n",
      "Feature: 35, Score: 0.00219\n",
      "Feature: 36, Score: 0.00089\n",
      "Feature: 37, Score: 0.00025\n",
      "Feature: 38, Score: 0.00136\n",
      "Feature: 39, Score: 0.00132\n",
      "Feature: 40, Score: 0.00014\n",
      "Feature: 41, Score: 0.00194\n",
      "Feature: 42, Score: 0.00138\n",
      "Feature: 43, Score: 0.00489\n",
      "Feature: 44, Score: 0.00171\n",
      "Feature: 45, Score: 0.01075\n",
      "Feature: 46, Score: 0.01516\n",
      "Feature: 47, Score: 0.01189\n",
      "Feature: 48, Score: 0.01339\n",
      "Feature: 49, Score: 0.01129\n",
      "Feature: 50, Score: 0.00911\n",
      "Feature: 51, Score: 0.00513\n",
      "Feature: 52, Score: 0.00087\n",
      "Feature: 53, Score: 0.16381\n",
      "Feature: 54, Score: 0.07945\n",
      "Feature: 55, Score: 0.03690\n",
      "Feature: 56, Score: 0.01139\n",
      "Feature: 57, Score: 0.00459\n",
      "Feature: 58, Score: 0.00735\n",
      "Feature: 59, Score: 0.02174\n",
      "Feature: 60, Score: 0.08563\n",
      "Feature: 61, Score: 0.15849\n"
     ]
    }
   ],
   "source": [
    "importance = clf.feature_importances_\n",
    "# summarize feature importance\n",
    "for i,v in enumerate(importance):\n",
    "    print('Feature: %0d, Score: %.5f' % (i,v))"
   ]
  },
  {
   "cell_type": "code",
   "execution_count": 33,
   "metadata": {},
   "outputs": [
    {
     "data": {
      "image/png": "[encoded data removed]",
      "text/plain": [
       "<Figure size 432x288 with 1 Axes>"
      ]
     },
     "metadata": {
      "needs_background": "light"
     },
     "output_type": "display_data"
    }
   ],
   "source": [
    "from matplotlib import pyplot\n",
    "# plot feature importance\n",
    "pyplot.bar([x for x in range(len(importance))], importance)\n",
    "pyplot.show()"
   ]
  },
  {
   "cell_type": "markdown",
   "metadata": {},
   "source": [
    "### Most important features\n",
    "1. feature 61 - no employees\n",
    "2. feature 60 - euribor3m\n",
    "3. feature 54 - pdays\n",
    "4. feature 53 - campaign\n",
    "\n",
    "Feature selection is often a key DM step, since it is useful to discard irrelevant inputs, leading to simpler data-driven models that are easier to interpret and that tend to provide better predictive performances"
   ]
  },
  {
   "cell_type": "code",
   "execution_count": 34,
   "metadata": {},
   "outputs": [
    {
     "name": "stdout",
     "output_type": "stream",
     "text": [
      "              precision    recall  f1-score   support\n",
      "\n",
      "          no       0.92      0.91      0.91     10967\n",
      "         yes       0.33      0.36      0.34      1390\n",
      "\n",
      "    accuracy                           0.84     12357\n",
      "   macro avg       0.62      0.63      0.63     12357\n",
      "weighted avg       0.85      0.84      0.85     12357\n",
      "\n"
     ]
    }
   ],
   "source": [
    "from sklearn.metrics import classification_report, confusion_matrix, accuracy_score, mean_squared_error, roc_auc_score\n",
    "\n",
    "#classification report\n",
    "print(classification_report(y_test, y_preds))"
   ]
  },
  {
   "cell_type": "code",
   "execution_count": 35,
   "metadata": {},
   "outputs": [
    {
     "data": {
      "text/plain": [
       "0.39397419615140683"
      ]
     },
     "execution_count": 35,
     "metadata": {},
     "output_type": "execute_result"
    }
   ],
   "source": [
    "from sklearn.preprocessing import LabelEncoder\n",
    "lb = LabelEncoder()\n",
    "y_test_float = lb.fit_transform(y_test)\n",
    "y_preds_float = lb.fit_transform(y_preds)\n",
    "#RMS error\n",
    "mean_squared_error(y_test_float, y_preds_float, squared=False)"
   ]
  },
  {
   "cell_type": "markdown",
   "metadata": {},
   "source": [
    "The receiver operating characteristic (ROC) curve shows the performance of a two class classifer across the range of possible threshold (D) values, plotting one minus the specificity (x-axis) versus the sensitivity (y-axis) The overall accuracy is given by the area under the curve (AUC =  ROCdD), measuring the degree of discrimination that can be obtained from a given model. AUC is a popular classification metric that presents advantages of being independent of the class frequency or specific false  positive/negative costs. The ideal method should present an AUC of 1.0, while an AUC of 0.5 denotes a random classifier."
   ]
  },
  {
   "cell_type": "code",
   "execution_count": 36,
   "metadata": {},
   "outputs": [
    {
     "data": {
      "text/plain": [
       "0.6326741178407689"
      ]
     },
     "execution_count": 36,
     "metadata": {},
     "output_type": "execute_result"
    }
   ],
   "source": [
    "#ROC area\n",
    "roc_auc_score(y_test_float, y_preds_float)"
   ]
  },
  {
   "cell_type": "code",
   "execution_count": 37,
   "metadata": {},
   "outputs": [
    {
     "data": {
      "text/plain": [
       "array([[9940, 1027],\n",
       "       [ 891,  499]], dtype=int64)"
      ]
     },
     "execution_count": 37,
     "metadata": {},
     "output_type": "execute_result"
    }
   ],
   "source": [
    "#confusion matrix\n",
    "confusion_matrix(y_test, y_preds)"
   ]
  },
  {
   "cell_type": "code",
   "execution_count": 38,
   "metadata": {},
   "outputs": [
    {
     "name": "stdout",
     "output_type": "stream",
     "text": [
      "DecisionTreeClassifier 0.8447843327668528\n",
      "Classification Report for DecisionTreeClassifier\n",
      "              precision    recall  f1-score   support\n",
      "\n",
      "          no       0.92      0.91      0.91     10967\n",
      "         yes       0.33      0.36      0.34      1390\n",
      "\n",
      "    accuracy                           0.84     12357\n",
      "   macro avg       0.62      0.63      0.63     12357\n",
      "weighted avg       0.85      0.84      0.85     12357\n",
      "\n",
      "************************************************************\n",
      "the model is 84.48% accurate\n"
     ]
    }
   ],
   "source": [
    "# accuracy score\n",
    "#Decision tree\n",
    "print(clf.__class__.__name__, accuracy_score(y_test, y_preds))\n",
    "print(f'Classification Report for {clf.__class__.__name__}')\n",
    "print(classification_report(y_test, y_preds))\n",
    "print('*'*60)\n",
    "print(f\"the model is {accuracy_score(y_test, y_preds)*100:.2f}% accurate\")"
   ]
  },
  {
   "cell_type": "markdown",
   "metadata": {},
   "source": [
    "### KNN"
   ]
  },
  {
   "cell_type": "code",
   "execution_count": 39,
   "metadata": {},
   "outputs": [
    {
     "data": {
      "text/plain": [
       "0.8800679776644816"
      ]
     },
     "execution_count": 39,
     "metadata": {},
     "output_type": "execute_result"
    }
   ],
   "source": [
    "neigh_3.score(X_test, y_test)"
   ]
  },
  {
   "cell_type": "code",
   "execution_count": 121,
   "metadata": {},
   "outputs": [
    {
     "name": "stdout",
     "output_type": "stream",
     "text": [
      "0.90 accuracy with a standard deviation of 0.02\n"
     ]
    }
   ],
   "source": [
    "# using 10 fold cross validation\n",
    "from sklearn.model_selection import cross_val_score\n",
    "scores = cross_val_score(neigh_3, X_test, y_test, cv=10)\n",
    "print(f\"%0.2f accuracy with a standard deviation of %0.2f\" % (scores.mean(), scores.std()))"
   ]
  },
  {
   "cell_type": "code",
   "execution_count": 40,
   "metadata": {},
   "outputs": [
    {
     "name": "stdout",
     "output_type": "stream",
     "text": [
      "Feature: 0, Score: 0.00018\n",
      "Feature: 1, Score: -0.00016\n",
      "Feature: 2, Score: 0.00010\n",
      "Feature: 3, Score: 0.00016\n",
      "Feature: 4, Score: 0.00034\n",
      "Feature: 5, Score: -0.00040\n",
      "Feature: 6, Score: 0.00028\n",
      "Feature: 7, Score: 0.00024\n",
      "Feature: 8, Score: -0.00005\n",
      "Feature: 9, Score: -0.00074\n",
      "Feature: 10, Score: -0.00005\n",
      "Feature: 11, Score: 0.00008\n",
      "Feature: 12, Score: -0.00062\n",
      "Feature: 13, Score: -0.00146\n",
      "Feature: 14, Score: -0.00099\n",
      "Feature: 15, Score: 0.00000\n",
      "Feature: 16, Score: -0.00028\n",
      "Feature: 17, Score: 0.00006\n",
      "Feature: 18, Score: 0.00024\n",
      "Feature: 19, Score: 0.00008\n",
      "Feature: 20, Score: 0.00000\n",
      "Feature: 21, Score: 0.00013\n",
      "Feature: 22, Score: -0.00062\n",
      "Feature: 23, Score: -0.00011\n",
      "Feature: 24, Score: 0.00013\n",
      "Feature: 25, Score: 0.00013\n",
      "Feature: 26, Score: 0.00000\n",
      "Feature: 27, Score: -0.00037\n",
      "Feature: 28, Score: -0.00021\n",
      "Feature: 29, Score: -0.00006\n",
      "Feature: 30, Score: -0.00005\n",
      "Feature: 31, Score: -0.00021\n",
      "Feature: 32, Score: 0.00023\n",
      "Feature: 33, Score: -0.00076\n",
      "Feature: 34, Score: -0.00076\n",
      "Feature: 35, Score: -0.00032\n",
      "Feature: 36, Score: 0.00006\n",
      "Feature: 37, Score: 0.00000\n",
      "Feature: 38, Score: -0.00029\n",
      "Feature: 39, Score: 0.00018\n",
      "Feature: 40, Score: 0.00000\n",
      "Feature: 41, Score: 0.00037\n",
      "Feature: 42, Score: 0.00019\n",
      "Feature: 43, Score: -0.00010\n",
      "Feature: 44, Score: -0.00024\n",
      "Feature: 45, Score: -0.00049\n",
      "Feature: 46, Score: 0.00015\n",
      "Feature: 47, Score: -0.00047\n",
      "Feature: 48, Score: -0.00013\n",
      "Feature: 49, Score: -0.00089\n",
      "Feature: 50, Score: 0.00036\n",
      "Feature: 51, Score: 0.00053\n",
      "Feature: 52, Score: -0.00016\n",
      "Feature: 53, Score: -0.00154\n",
      "Feature: 54, Score: -0.00155\n",
      "Feature: 55, Score: 0.00570\n",
      "Feature: 56, Score: 0.00013\n",
      "Feature: 57, Score: -0.00021\n",
      "Feature: 58, Score: -0.00055\n",
      "Feature: 59, Score: 0.01120\n",
      "Feature: 60, Score: -0.00087\n",
      "Feature: 61, Score: 0.04169\n"
     ]
    }
   ],
   "source": [
    "from sklearn.inspection import permutation_importance\n",
    "results = permutation_importance(neigh_3, X_test, y_test, scoring='accuracy')\n",
    "# get importance\n",
    "importance = results.importances_mean\n",
    "# summarize feature importance\n",
    "for i,v in enumerate(importance):\n",
    "    print('Feature: %0d, Score: %.5f' % (i,v))"
   ]
  },
  {
   "cell_type": "code",
   "execution_count": 41,
   "metadata": {},
   "outputs": [
    {
     "data": {
      "image/png": "[encoded data removed]",
      "text/plain": [
       "<Figure size 432x288 with 1 Axes>"
      ]
     },
     "metadata": {
      "needs_background": "light"
     },
     "output_type": "display_data"
    }
   ],
   "source": [
    "pyplot.bar([x for x in range(len(importance))], importance)\n",
    "pyplot.show()"
   ]
  },
  {
   "cell_type": "code",
   "execution_count": 42,
   "metadata": {},
   "outputs": [
    {
     "data": {
      "text/plain": [
       "0.8994092417253379"
      ]
     },
     "execution_count": 42,
     "metadata": {},
     "output_type": "execute_result"
    }
   ],
   "source": [
    "neigh_20.score(X_test, y_test)"
   ]
  },
  {
   "cell_type": "code",
   "execution_count": 43,
   "metadata": {},
   "outputs": [
    {
     "name": "stdout",
     "output_type": "stream",
     "text": [
      "Feature: 0, Score: -0.00003\n",
      "Feature: 1, Score: 0.00002\n",
      "Feature: 2, Score: -0.00002\n",
      "Feature: 3, Score: 0.00002\n",
      "Feature: 4, Score: 0.00002\n",
      "Feature: 5, Score: 0.00019\n",
      "Feature: 6, Score: -0.00006\n",
      "Feature: 7, Score: 0.00002\n",
      "Feature: 8, Score: -0.00010\n",
      "Feature: 9, Score: -0.00023\n",
      "Feature: 10, Score: -0.00010\n",
      "Feature: 11, Score: 0.00002\n",
      "Feature: 12, Score: 0.00011\n",
      "Feature: 13, Score: -0.00023\n",
      "Feature: 14, Score: -0.00021\n",
      "Feature: 15, Score: 0.00002\n",
      "Feature: 16, Score: 0.00005\n",
      "Feature: 17, Score: -0.00005\n",
      "Feature: 18, Score: 0.00006\n",
      "Feature: 19, Score: -0.00028\n",
      "Feature: 20, Score: 0.00000\n",
      "Feature: 21, Score: -0.00021\n",
      "Feature: 22, Score: 0.00000\n",
      "Feature: 23, Score: 0.00008\n",
      "Feature: 24, Score: 0.00011\n",
      "Feature: 25, Score: 0.00011\n",
      "Feature: 26, Score: 0.00000\n",
      "Feature: 27, Score: -0.00008\n",
      "Feature: 28, Score: -0.00008\n",
      "Feature: 29, Score: -0.00023\n",
      "Feature: 30, Score: 0.00002\n",
      "Feature: 31, Score: -0.00008\n",
      "Feature: 32, Score: 0.00005\n",
      "Feature: 33, Score: -0.00003\n",
      "Feature: 34, Score: -0.00003\n",
      "Feature: 35, Score: 0.00018\n",
      "Feature: 36, Score: 0.00015\n",
      "Feature: 37, Score: 0.00016\n",
      "Feature: 38, Score: 0.00013\n",
      "Feature: 39, Score: 0.00000\n",
      "Feature: 40, Score: -0.00016\n",
      "Feature: 41, Score: 0.00018\n",
      "Feature: 42, Score: 0.00011\n",
      "Feature: 43, Score: -0.00008\n",
      "Feature: 44, Score: 0.00002\n",
      "Feature: 45, Score: 0.00023\n",
      "Feature: 46, Score: -0.00039\n",
      "Feature: 47, Score: 0.00021\n",
      "Feature: 48, Score: -0.00011\n",
      "Feature: 49, Score: 0.00039\n",
      "Feature: 50, Score: 0.00013\n",
      "Feature: 51, Score: 0.00013\n",
      "Feature: 52, Score: -0.00006\n",
      "Feature: 53, Score: 0.00026\n",
      "Feature: 54, Score: 0.00086\n",
      "Feature: 55, Score: 0.01249\n",
      "Feature: 56, Score: 0.00003\n",
      "Feature: 57, Score: 0.00002\n",
      "Feature: 58, Score: -0.00026\n",
      "Feature: 59, Score: 0.00163\n",
      "Feature: 60, Score: 0.00057\n",
      "Feature: 61, Score: 0.02766\n"
     ]
    },
    {
     "data": {
      "image/png": "[encoded data removed]",
      "text/plain": [
       "<Figure size 432x288 with 1 Axes>"
      ]
     },
     "metadata": {
      "needs_background": "light"
     },
     "output_type": "display_data"
    }
   ],
   "source": [
    "results = permutation_importance(neigh_20, X_test, y_test, scoring='accuracy')\n",
    "# get importance\n",
    "importance = results.importances_mean\n",
    "# summarize feature importance\n",
    "for i,v in enumerate(importance):\n",
    "    print('Feature: %0d, Score: %.5f' % (i,v))\n",
    "pyplot.bar([x for x in range(len(importance))], importance)\n",
    "pyplot.show()"
   ]
  },
  {
   "cell_type": "code",
   "execution_count": 44,
   "metadata": {},
   "outputs": [
    {
     "data": {
      "text/plain": [
       "0.8994901675163874"
      ]
     },
     "execution_count": 44,
     "metadata": {},
     "output_type": "execute_result"
    }
   ],
   "source": [
    "neigh_30.score(X_test, y_test)"
   ]
  },
  {
   "cell_type": "code",
   "execution_count": 45,
   "metadata": {},
   "outputs": [
    {
     "name": "stdout",
     "output_type": "stream",
     "text": [
      "Feature: 0, Score: 0.00010\n",
      "Feature: 1, Score: -0.00000\n",
      "Feature: 2, Score: -0.00000\n",
      "Feature: 3, Score: 0.00002\n",
      "Feature: 4, Score: -0.00008\n",
      "Feature: 5, Score: 0.00008\n",
      "Feature: 6, Score: -0.00003\n",
      "Feature: 7, Score: -0.00002\n",
      "Feature: 8, Score: 0.00024\n",
      "Feature: 9, Score: 0.00013\n",
      "Feature: 10, Score: -0.00002\n",
      "Feature: 11, Score: 0.00000\n",
      "Feature: 12, Score: -0.00005\n",
      "Feature: 13, Score: -0.00032\n",
      "Feature: 14, Score: -0.00005\n",
      "Feature: 15, Score: 0.00000\n",
      "Feature: 16, Score: 0.00013\n",
      "Feature: 17, Score: -0.00002\n",
      "Feature: 18, Score: -0.00002\n",
      "Feature: 19, Score: 0.00026\n",
      "Feature: 20, Score: 0.00000\n",
      "Feature: 21, Score: -0.00000\n",
      "Feature: 22, Score: -0.00006\n",
      "Feature: 23, Score: 0.00000\n",
      "Feature: 24, Score: -0.00005\n",
      "Feature: 25, Score: -0.00005\n",
      "Feature: 26, Score: 0.00000\n",
      "Feature: 27, Score: 0.00063\n",
      "Feature: 28, Score: -0.00005\n",
      "Feature: 29, Score: 0.00063\n",
      "Feature: 30, Score: 0.00005\n",
      "Feature: 31, Score: -0.00005\n",
      "Feature: 32, Score: -0.00003\n",
      "Feature: 33, Score: -0.00037\n",
      "Feature: 34, Score: -0.00037\n",
      "Feature: 35, Score: -0.00005\n",
      "Feature: 36, Score: -0.00002\n",
      "Feature: 37, Score: 0.00008\n",
      "Feature: 38, Score: 0.00006\n",
      "Feature: 39, Score: -0.00008\n",
      "Feature: 40, Score: -0.00015\n",
      "Feature: 41, Score: -0.00013\n",
      "Feature: 42, Score: 0.00008\n",
      "Feature: 43, Score: -0.00008\n",
      "Feature: 44, Score: 0.00000\n",
      "Feature: 45, Score: -0.00003\n",
      "Feature: 46, Score: 0.00039\n",
      "Feature: 47, Score: -0.00002\n",
      "Feature: 48, Score: 0.00008\n",
      "Feature: 49, Score: 0.00021\n",
      "Feature: 50, Score: -0.00008\n",
      "Feature: 51, Score: -0.00008\n",
      "Feature: 52, Score: 0.00000\n",
      "Feature: 53, Score: -0.00024\n",
      "Feature: 54, Score: -0.00044\n",
      "Feature: 55, Score: 0.01264\n",
      "Feature: 56, Score: 0.00034\n",
      "Feature: 57, Score: -0.00000\n",
      "Feature: 58, Score: -0.00015\n",
      "Feature: 59, Score: 0.00055\n",
      "Feature: 60, Score: 0.00002\n",
      "Feature: 61, Score: 0.02559\n"
     ]
    },
    {
     "data": {
      "image/png": "[encoded data removed]",
      "text/plain": [
       "<Figure size 432x288 with 1 Axes>"
      ]
     },
     "metadata": {
      "needs_background": "light"
     },
     "output_type": "display_data"
    }
   ],
   "source": [
    "results = permutation_importance(neigh_30, X_test, y_test, scoring='accuracy')\n",
    "# get importance\n",
    "importance = results.importances_mean\n",
    "# summarize feature importance\n",
    "for i,v in enumerate(importance):\n",
    "    print('Feature: %0d, Score: %.5f' % (i,v))\n",
    "pyplot.bar([x for x in range(len(importance))], importance)\n",
    "pyplot.show()"
   ]
  },
  {
   "cell_type": "code",
   "execution_count": 46,
   "metadata": {},
   "outputs": [
    {
     "data": {
      "text/plain": [
       "0.8996520190984867"
      ]
     },
     "execution_count": 46,
     "metadata": {},
     "output_type": "execute_result"
    }
   ],
   "source": [
    "neigh_40.score(X_test, y_test)"
   ]
  },
  {
   "cell_type": "code",
   "execution_count": 47,
   "metadata": {},
   "outputs": [
    {
     "name": "stdout",
     "output_type": "stream",
     "text": [
      "Feature: 0, Score: -0.00013\n",
      "Feature: 1, Score: -0.00011\n",
      "Feature: 2, Score: -0.00002\n",
      "Feature: 3, Score: 0.00000\n",
      "Feature: 4, Score: -0.00008\n",
      "Feature: 5, Score: 0.00002\n",
      "Feature: 6, Score: 0.00000\n",
      "Feature: 7, Score: -0.00003\n",
      "Feature: 8, Score: 0.00008\n",
      "Feature: 9, Score: 0.00005\n",
      "Feature: 10, Score: 0.00000\n",
      "Feature: 11, Score: 0.00000\n",
      "Feature: 12, Score: 0.00002\n",
      "Feature: 13, Score: 0.00005\n",
      "Feature: 14, Score: 0.00002\n",
      "Feature: 15, Score: 0.00000\n",
      "Feature: 16, Score: -0.00005\n",
      "Feature: 17, Score: 0.00000\n",
      "Feature: 18, Score: 0.00003\n",
      "Feature: 19, Score: 0.00011\n",
      "Feature: 20, Score: 0.00000\n",
      "Feature: 21, Score: -0.00002\n",
      "Feature: 22, Score: -0.00045\n",
      "Feature: 23, Score: 0.00000\n",
      "Feature: 24, Score: 0.00000\n",
      "Feature: 25, Score: 0.00000\n",
      "Feature: 26, Score: 0.00000\n",
      "Feature: 27, Score: -0.00032\n",
      "Feature: 28, Score: 0.00002\n",
      "Feature: 29, Score: -0.00031\n",
      "Feature: 30, Score: -0.00002\n",
      "Feature: 31, Score: 0.00002\n",
      "Feature: 32, Score: -0.00008\n",
      "Feature: 33, Score: 0.00008\n",
      "Feature: 34, Score: 0.00008\n",
      "Feature: 35, Score: 0.00005\n",
      "Feature: 36, Score: 0.00002\n",
      "Feature: 37, Score: 0.00000\n",
      "Feature: 38, Score: 0.00000\n",
      "Feature: 39, Score: -0.00010\n",
      "Feature: 40, Score: -0.00016\n",
      "Feature: 41, Score: -0.00006\n",
      "Feature: 42, Score: -0.00003\n",
      "Feature: 43, Score: 0.00008\n",
      "Feature: 44, Score: 0.00000\n",
      "Feature: 45, Score: -0.00006\n",
      "Feature: 46, Score: -0.00015\n",
      "Feature: 47, Score: -0.00006\n",
      "Feature: 48, Score: -0.00003\n",
      "Feature: 49, Score: 0.00002\n",
      "Feature: 50, Score: -0.00028\n",
      "Feature: 51, Score: -0.00026\n",
      "Feature: 52, Score: 0.00000\n",
      "Feature: 53, Score: -0.00034\n",
      "Feature: 54, Score: -0.00055\n",
      "Feature: 55, Score: 0.01178\n",
      "Feature: 56, Score: -0.00018\n",
      "Feature: 57, Score: -0.00006\n",
      "Feature: 58, Score: -0.00021\n",
      "Feature: 59, Score: 0.00081\n",
      "Feature: 60, Score: -0.00016\n",
      "Feature: 61, Score: 0.02423\n"
     ]
    },
    {
     "data": {
      "image/png": "[encoded data removed]",
      "text/plain": [
       "<Figure size 432x288 with 1 Axes>"
      ]
     },
     "metadata": {
      "needs_background": "light"
     },
     "output_type": "display_data"
    }
   ],
   "source": [
    "results = permutation_importance(neigh_40, X_test, y_test, scoring='accuracy')\n",
    "# get importance\n",
    "importance = results.importances_mean\n",
    "# summarize feature importance\n",
    "for i,v in enumerate(importance):\n",
    "    print('Feature: %0d, Score: %.5f' % (i,v))\n",
    "pyplot.bar([x for x in range(len(importance))], importance)\n",
    "pyplot.show()"
   ]
  },
  {
   "cell_type": "code",
   "execution_count": 48,
   "metadata": {},
   "outputs": [
    {
     "data": {
      "text/plain": [
       "0.3463120303072337"
      ]
     },
     "execution_count": 48,
     "metadata": {},
     "output_type": "execute_result"
    }
   ],
   "source": [
    "KNN_3_preds_float = lb.fit_transform(KNN_3_preds)\n",
    "#RMS error\n",
    "mean_squared_error(y_test_float, KNN_3_preds_float, squared=False)"
   ]
  },
  {
   "cell_type": "code",
   "execution_count": 49,
   "metadata": {},
   "outputs": [
    {
     "data": {
      "text/plain": [
       "0.6239669302216657"
      ]
     },
     "execution_count": 49,
     "metadata": {},
     "output_type": "execute_result"
    }
   ],
   "source": [
    "#ROC area\n",
    "roc_auc_score(y_test_float, KNN_3_preds_float)"
   ]
  },
  {
   "cell_type": "code",
   "execution_count": 50,
   "metadata": {},
   "outputs": [
    {
     "name": "stdout",
     "output_type": "stream",
     "text": [
      "              precision    recall  f1-score   support\n",
      "\n",
      "          no       0.91      0.95      0.93     10967\n",
      "         yes       0.45      0.29      0.36      1390\n",
      "\n",
      "    accuracy                           0.88     12357\n",
      "   macro avg       0.68      0.62      0.64     12357\n",
      "weighted avg       0.86      0.88      0.87     12357\n",
      "\n"
     ]
    }
   ],
   "source": [
    "#classification report\n",
    "print(classification_report(y_test, KNN_3_preds))\n"
   ]
  },
  {
   "cell_type": "code",
   "execution_count": 51,
   "metadata": {},
   "outputs": [
    {
     "name": "stdout",
     "output_type": "stream",
     "text": [
      "              precision    recall  f1-score   support\n",
      "\n",
      "          no       0.91      0.98      0.95     10967\n",
      "         yes       0.65      0.22      0.33      1390\n",
      "\n",
      "    accuracy                           0.90     12357\n",
      "   macro avg       0.78      0.60      0.64     12357\n",
      "weighted avg       0.88      0.90      0.88     12357\n",
      "\n",
      "RMS error: 0.31716046139874077\n",
      "ROC area: 0.6047076481242288\n"
     ]
    }
   ],
   "source": [
    "#classification report\n",
    "print(classification_report(y_test, KNN_20_preds))\n",
    "KNN_20_preds_float = lb.fit_transform(KNN_20_preds)\n",
    "#RMS error\n",
    "print(f\"RMS error: {mean_squared_error(y_test_float, KNN_20_preds_float, squared=False)}\")\n",
    "#ROC area\n",
    "print(f\"ROC area: {roc_auc_score(y_test_float, KNN_20_preds_float)}\")"
   ]
  },
  {
   "cell_type": "code",
   "execution_count": 52,
   "metadata": {},
   "outputs": [
    {
     "name": "stdout",
     "output_type": "stream",
     "text": [
      "              precision    recall  f1-score   support\n",
      "\n",
      "          no       0.91      0.99      0.95     10967\n",
      "         yes       0.67      0.21      0.32      1390\n",
      "\n",
      "    accuracy                           0.90     12357\n",
      "   macro avg       0.79      0.60      0.63     12357\n",
      "weighted avg       0.88      0.90      0.88     12357\n",
      "\n",
      "RMS error: 0.3170328571041376\n",
      "ROC area: 0.5984708212275807\n"
     ]
    }
   ],
   "source": [
    "#classification report\n",
    "print(classification_report(y_test, KNN_30_preds))\n",
    "KNN_30_preds_float = lb.fit_transform(KNN_30_preds)\n",
    "#RMS error\n",
    "print(f\"RMS error: {mean_squared_error(y_test_float, KNN_30_preds_float, squared=False)}\")\n",
    "#ROC area\n",
    "print(f\"ROC area: {roc_auc_score(y_test_float, KNN_30_preds_float)}\")"
   ]
  },
  {
   "cell_type": "code",
   "execution_count": 53,
   "metadata": {},
   "outputs": [
    {
     "name": "stdout",
     "output_type": "stream",
     "text": [
      "              precision    recall  f1-score   support\n",
      "\n",
      "          no       0.91      0.99      0.95     10967\n",
      "         yes       0.67      0.21      0.32      1390\n",
      "\n",
      "    accuracy                           0.90     12357\n",
      "   macro avg       0.79      0.60      0.63     12357\n",
      "weighted avg       0.88      0.90      0.88     12357\n",
      "\n",
      "RMS error: 0.31677749431030183\n",
      "ROC area: 0.5988761247772093\n"
     ]
    }
   ],
   "source": [
    "#classification report\n",
    "print(classification_report(y_test, KNN_40_preds))\n",
    "KNN_40_preds_float = lb.fit_transform(KNN_40_preds)\n",
    "#RMS error\n",
    "print(f\"RMS error: {mean_squared_error(y_test_float, KNN_40_preds_float, squared=False)}\")\n",
    "#ROC area\n",
    "print(f\"ROC area: {roc_auc_score(y_test_float, KNN_40_preds_float)}\")"
   ]
  },
  {
   "cell_type": "code",
   "execution_count": 54,
   "metadata": {},
   "outputs": [
    {
     "data": {
      "text/plain": [
       "array([[10467,   500],\n",
       "       [  982,   408]], dtype=int64)"
      ]
     },
     "execution_count": 54,
     "metadata": {},
     "output_type": "execute_result"
    }
   ],
   "source": [
    "#confusion matrix\n",
    "confusion_matrix(y_test, KNN_3_preds)"
   ]
  },
  {
   "cell_type": "code",
   "execution_count": 55,
   "metadata": {},
   "outputs": [
    {
     "data": {
      "text/plain": [
       "array([[10802,   165],\n",
       "       [ 1078,   312]], dtype=int64)"
      ]
     },
     "execution_count": 55,
     "metadata": {},
     "output_type": "execute_result"
    }
   ],
   "source": [
    "#confusion matrix\n",
    "confusion_matrix(y_test, KNN_20_preds)"
   ]
  },
  {
   "cell_type": "code",
   "execution_count": 56,
   "metadata": {},
   "outputs": [
    {
     "data": {
      "text/plain": [
       "array([[10823,   144],\n",
       "       [ 1098,   292]], dtype=int64)"
      ]
     },
     "execution_count": 56,
     "metadata": {},
     "output_type": "execute_result"
    }
   ],
   "source": [
    "#confusion matrix\n",
    "confusion_matrix(y_test, KNN_30_preds)"
   ]
  },
  {
   "cell_type": "code",
   "execution_count": 57,
   "metadata": {},
   "outputs": [
    {
     "data": {
      "text/plain": [
       "array([[10824,   143],\n",
       "       [ 1097,   293]], dtype=int64)"
      ]
     },
     "execution_count": 57,
     "metadata": {},
     "output_type": "execute_result"
    }
   ],
   "source": [
    "#confusion matrix\n",
    "confusion_matrix(y_test, KNN_40_preds)"
   ]
  },
  {
   "cell_type": "code",
   "execution_count": 58,
   "metadata": {},
   "outputs": [
    {
     "name": "stdout",
     "output_type": "stream",
     "text": [
      "KNeighborsClassifier 0.8800679776644816\n",
      "Classification Report for KNeighborsClassifier\n",
      "              precision    recall  f1-score   support\n",
      "\n",
      "          no       0.91      0.95      0.93     10967\n",
      "         yes       0.45      0.29      0.36      1390\n",
      "\n",
      "    accuracy                           0.88     12357\n",
      "   macro avg       0.68      0.62      0.64     12357\n",
      "weighted avg       0.86      0.88      0.87     12357\n",
      "\n",
      "************************************************************\n",
      "the KNN model is 88.01% accurate\n"
     ]
    }
   ],
   "source": [
    "# accuracy score\n",
    "#KNN with 3 neighbors\n",
    "print(neigh_3.__class__.__name__, accuracy_score(y_test, KNN_3_preds))\n",
    "print(f'Classification Report for {neigh_3.__class__.__name__}')\n",
    "print(classification_report(y_test, KNN_3_preds))\n",
    "print('*'*60)\n",
    "print(f\"the KNN model is {accuracy_score(y_test, KNN_3_preds)*100:.2f}% accurate\")"
   ]
  },
  {
   "cell_type": "code",
   "execution_count": 59,
   "metadata": {},
   "outputs": [
    {
     "name": "stdout",
     "output_type": "stream",
     "text": [
      "KNeighborsClassifier 0.8994092417253379\n",
      "Classification Report for KNeighborsClassifier\n",
      "              precision    recall  f1-score   support\n",
      "\n",
      "          no       0.91      0.98      0.95     10967\n",
      "         yes       0.65      0.22      0.33      1390\n",
      "\n",
      "    accuracy                           0.90     12357\n",
      "   macro avg       0.78      0.60      0.64     12357\n",
      "weighted avg       0.88      0.90      0.88     12357\n",
      "\n",
      "************************************************************\n",
      "the KNN model is 89.94% accurate\n"
     ]
    }
   ],
   "source": [
    "# accuracy score\n",
    "#KNN with 20 neighbors\n",
    "print(neigh_20.__class__.__name__, accuracy_score(y_test, KNN_20_preds))\n",
    "print(f'Classification Report for {neigh_20.__class__.__name__}')\n",
    "print(classification_report(y_test, KNN_20_preds))\n",
    "print('*'*60)\n",
    "print(f\"the KNN model is {accuracy_score(y_test, KNN_20_preds)*100:.2f}% accurate\")"
   ]
  },
  {
   "cell_type": "code",
   "execution_count": 60,
   "metadata": {},
   "outputs": [
    {
     "name": "stdout",
     "output_type": "stream",
     "text": [
      "KNeighborsClassifier 0.8994901675163874\n",
      "Classification Report for KNeighborsClassifier\n",
      "              precision    recall  f1-score   support\n",
      "\n",
      "          no       0.91      0.99      0.95     10967\n",
      "         yes       0.67      0.21      0.32      1390\n",
      "\n",
      "    accuracy                           0.90     12357\n",
      "   macro avg       0.79      0.60      0.63     12357\n",
      "weighted avg       0.88      0.90      0.88     12357\n",
      "\n",
      "************************************************************\n",
      "the KNN model is 89.95% accurate\n"
     ]
    }
   ],
   "source": [
    "# accuracy score\n",
    "#KNN with 30 neighbors\n",
    "print(neigh_30.__class__.__name__, accuracy_score(y_test, KNN_30_preds))\n",
    "print(f'Classification Report for {neigh_30.__class__.__name__}')\n",
    "print(classification_report(y_test, KNN_30_preds))\n",
    "print('*'*60)\n",
    "print(f\"the KNN model is {accuracy_score(y_test, KNN_30_preds)*100:.2f}% accurate\")"
   ]
  },
  {
   "cell_type": "code",
   "execution_count": 61,
   "metadata": {},
   "outputs": [
    {
     "name": "stdout",
     "output_type": "stream",
     "text": [
      "KNeighborsClassifier 0.8996520190984867\n",
      "Classification Report for KNeighborsClassifier\n",
      "              precision    recall  f1-score   support\n",
      "\n",
      "          no       0.91      0.99      0.95     10967\n",
      "         yes       0.67      0.21      0.32      1390\n",
      "\n",
      "    accuracy                           0.90     12357\n",
      "   macro avg       0.79      0.60      0.63     12357\n",
      "weighted avg       0.88      0.90      0.88     12357\n",
      "\n",
      "************************************************************\n",
      "the KNN model is 89.97% accurate\n"
     ]
    }
   ],
   "source": [
    "# accuracy score\n",
    "#KNN with 40 neighbors\n",
    "print(neigh_40.__class__.__name__, accuracy_score(y_test, KNN_40_preds))\n",
    "print(f'Classification Report for {neigh_40.__class__.__name__}')\n",
    "print(classification_report(y_test, KNN_40_preds))\n",
    "print('*'*60)\n",
    "print(f\"the KNN model is {accuracy_score(y_test, KNN_40_preds)*100:.2f}% accurate\")"
   ]
  },
  {
   "cell_type": "markdown",
   "metadata": {},
   "source": [
    "### Neural network"
   ]
  },
  {
   "cell_type": "code",
   "execution_count": 62,
   "metadata": {},
   "outputs": [
    {
     "data": {
      "text/plain": [
       "0.8901837015456826"
      ]
     },
     "execution_count": 62,
     "metadata": {},
     "output_type": "execute_result"
    }
   ],
   "source": [
    " mlp.score(X_test, y_test)"
   ]
  },
  {
   "cell_type": "code",
   "execution_count": 63,
   "metadata": {},
   "outputs": [
    {
     "name": "stdout",
     "output_type": "stream",
     "text": [
      "RMS error: 0.31677749431030183\n",
      "ROC area: 0.5988761247772093\n"
     ]
    }
   ],
   "source": [
    "MLP_preds_float = lb.fit_transform(KNN_40_preds)\n",
    "#RMS error\n",
    "print(f\"RMS error: {mean_squared_error(y_test_float, MLP_preds_float, squared=False)}\")\n",
    "#ROC area\n",
    "print(f\"ROC area: {roc_auc_score(y_test_float, MLP_preds_float)}\")"
   ]
  },
  {
   "cell_type": "code",
   "execution_count": 64,
   "metadata": {},
   "outputs": [
    {
     "name": "stdout",
     "output_type": "stream",
     "text": [
      "              precision    recall  f1-score   support\n",
      "\n",
      "          no       0.89      1.00      0.94     10967\n",
      "         yes       0.70      0.04      0.08      1390\n",
      "\n",
      "    accuracy                           0.89     12357\n",
      "   macro avg       0.80      0.52      0.51     12357\n",
      "weighted avg       0.87      0.89      0.84     12357\n",
      "\n"
     ]
    }
   ],
   "source": [
    "#classification report\n",
    "print(classification_report(y_test, MLP_preds))"
   ]
  },
  {
   "cell_type": "code",
   "execution_count": 65,
   "metadata": {},
   "outputs": [
    {
     "data": {
      "text/plain": [
       "array([[10943,    24],\n",
       "       [ 1333,    57]], dtype=int64)"
      ]
     },
     "execution_count": 65,
     "metadata": {},
     "output_type": "execute_result"
    }
   ],
   "source": [
    "#confusion matrix\n",
    "confusion_matrix(y_test, MLP_preds)"
   ]
  },
  {
   "cell_type": "code",
   "execution_count": 66,
   "metadata": {},
   "outputs": [
    {
     "name": "stdout",
     "output_type": "stream",
     "text": [
      "MLPClassifier 0.8901837015456826\n",
      "Classification Report for MLPClassifier\n",
      "              precision    recall  f1-score   support\n",
      "\n",
      "          no       0.89      1.00      0.94     10967\n",
      "         yes       0.70      0.04      0.08      1390\n",
      "\n",
      "    accuracy                           0.89     12357\n",
      "   macro avg       0.80      0.52      0.51     12357\n",
      "weighted avg       0.87      0.89      0.84     12357\n",
      "\n",
      "************************************************************\n",
      "the Neural net model is 89.02% accurate\n"
     ]
    }
   ],
   "source": [
    "# accuracy score\n",
    "#Neural networks\n",
    "print(mlp.__class__.__name__, accuracy_score(y_test, MLP_preds))\n",
    "print(f'Classification Report for {mlp.__class__.__name__}')\n",
    "print(classification_report(y_test, MLP_preds))\n",
    "print('*'*60)\n",
    "print(f\"the Neural net model is {accuracy_score(y_test, MLP_preds)*100:.2f}% accurate\")"
   ]
  },
  {
   "cell_type": "markdown",
   "metadata": {},
   "source": [
    "### SVM"
   ]
  },
  {
   "cell_type": "code",
   "execution_count": 67,
   "metadata": {},
   "outputs": [
    {
     "data": {
      "text/plain": [
       "0.8993283159342883"
      ]
     },
     "execution_count": 67,
     "metadata": {},
     "output_type": "execute_result"
    }
   ],
   "source": [
    "svm_clf.score(X_test, y_test)"
   ]
  },
  {
   "cell_type": "code",
   "execution_count": 68,
   "metadata": {},
   "outputs": [
    {
     "name": "stdout",
     "output_type": "stream",
     "text": [
      "RMS error: 0.31728801437449816\n",
      "ROC area: 0.6005784849643765\n"
     ]
    }
   ],
   "source": [
    "SVC_preds_float = lb.fit_transform(SVC_preds)\n",
    "#RMS error\n",
    "print(f\"RMS error: {mean_squared_error(y_test_float, SVC_preds_float, squared=False)}\")\n",
    "#ROC area\n",
    "print(f\"ROC area: {roc_auc_score(y_test_float, SVC_preds_float)}\")"
   ]
  },
  {
   "cell_type": "code",
   "execution_count": 69,
   "metadata": {},
   "outputs": [
    {
     "name": "stdout",
     "output_type": "stream",
     "text": [
      "              precision    recall  f1-score   support\n",
      "\n",
      "          no       0.91      0.99      0.95     10967\n",
      "         yes       0.66      0.22      0.32      1390\n",
      "\n",
      "    accuracy                           0.90     12357\n",
      "   macro avg       0.78      0.60      0.64     12357\n",
      "weighted avg       0.88      0.90      0.88     12357\n",
      "\n"
     ]
    }
   ],
   "source": [
    "#classification report\n",
    "print(classification_report(y_test, SVC_preds))"
   ]
  },
  {
   "cell_type": "code",
   "execution_count": 70,
   "metadata": {},
   "outputs": [
    {
     "data": {
      "text/plain": [
       "array([[10814,   153],\n",
       "       [ 1091,   299]], dtype=int64)"
      ]
     },
     "execution_count": 70,
     "metadata": {},
     "output_type": "execute_result"
    }
   ],
   "source": [
    "#confusion matrix\n",
    "confusion_matrix(y_test, SVC_preds)"
   ]
  },
  {
   "cell_type": "code",
   "execution_count": 71,
   "metadata": {},
   "outputs": [
    {
     "name": "stdout",
     "output_type": "stream",
     "text": [
      "SVC 0.8993283159342883\n",
      "Classification Report for SVC\n",
      "              precision    recall  f1-score   support\n",
      "\n",
      "          no       0.91      0.99      0.95     10967\n",
      "         yes       0.66      0.22      0.32      1390\n",
      "\n",
      "    accuracy                           0.90     12357\n",
      "   macro avg       0.78      0.60      0.64     12357\n",
      "weighted avg       0.88      0.90      0.88     12357\n",
      "\n",
      "************************************************************\n",
      "the Neural net model is 89.93% accurate\n"
     ]
    }
   ],
   "source": [
    "# accuracy score\n",
    "#Neural networks\n",
    "print(svm_clf.__class__.__name__, accuracy_score(y_test, SVC_preds))\n",
    "print(f'Classification Report for {svm_clf.__class__.__name__}')\n",
    "print(classification_report(y_test, SVC_preds))\n",
    "print('*'*60)\n",
    "print(f\"the Neural net model is {accuracy_score(y_test, SVC_preds)*100:.2f}% accurate\")"
   ]
  },
  {
   "cell_type": "markdown",
   "metadata": {},
   "source": [
    "## 5. Work with the smaller dataset and classify the data"
   ]
  },
  {
   "cell_type": "code",
   "execution_count": 72,
   "metadata": {},
   "outputs": [
    {
     "data": {
      "text/html": [
       "<div>\n",
       "<style scoped>\n",
       "    .dataframe tbody tr th:only-of-type {\n",
       "        vertical-align: middle;\n",
       "    }\n",
       "\n",
       "    .dataframe tbody tr th {\n",
       "        vertical-align: top;\n",
       "    }\n",
       "\n",
       "    .dataframe thead th {\n",
       "        text-align: right;\n",
       "    }\n",
       "</style>\n",
       "<table border=\"1\" class=\"dataframe\">\n",
       "  <thead>\n",
       "    <tr style=\"text-align: right;\">\n",
       "      <th></th>\n",
       "      <th>pdays</th>\n",
       "      <th>previous</th>\n",
       "      <th>emp.var.rate</th>\n",
       "      <th>cons.price.idx</th>\n",
       "      <th>cons.conf.idx</th>\n",
       "      <th>euribor3m</th>\n",
       "      <th>nr.employed</th>\n",
       "    </tr>\n",
       "  </thead>\n",
       "  <tbody>\n",
       "    <tr>\n",
       "      <th>count</th>\n",
       "      <td>4119.000000</td>\n",
       "      <td>4119.000000</td>\n",
       "      <td>4119.000000</td>\n",
       "      <td>4119.000000</td>\n",
       "      <td>4119.000000</td>\n",
       "      <td>4119.000000</td>\n",
       "      <td>4119.000000</td>\n",
       "    </tr>\n",
       "    <tr>\n",
       "      <th>mean</th>\n",
       "      <td>960.422190</td>\n",
       "      <td>0.190337</td>\n",
       "      <td>0.084972</td>\n",
       "      <td>93.579704</td>\n",
       "      <td>-40.499102</td>\n",
       "      <td>3.621356</td>\n",
       "      <td>5166.481695</td>\n",
       "    </tr>\n",
       "    <tr>\n",
       "      <th>std</th>\n",
       "      <td>191.922786</td>\n",
       "      <td>0.541788</td>\n",
       "      <td>1.563114</td>\n",
       "      <td>0.579349</td>\n",
       "      <td>4.594578</td>\n",
       "      <td>1.733591</td>\n",
       "      <td>73.667904</td>\n",
       "    </tr>\n",
       "    <tr>\n",
       "      <th>min</th>\n",
       "      <td>0.000000</td>\n",
       "      <td>0.000000</td>\n",
       "      <td>-3.400000</td>\n",
       "      <td>92.201000</td>\n",
       "      <td>-50.800000</td>\n",
       "      <td>0.635000</td>\n",
       "      <td>4963.600000</td>\n",
       "    </tr>\n",
       "    <tr>\n",
       "      <th>25%</th>\n",
       "      <td>999.000000</td>\n",
       "      <td>0.000000</td>\n",
       "      <td>-1.800000</td>\n",
       "      <td>93.075000</td>\n",
       "      <td>-42.700000</td>\n",
       "      <td>1.334000</td>\n",
       "      <td>5099.100000</td>\n",
       "    </tr>\n",
       "    <tr>\n",
       "      <th>50%</th>\n",
       "      <td>999.000000</td>\n",
       "      <td>0.000000</td>\n",
       "      <td>1.100000</td>\n",
       "      <td>93.749000</td>\n",
       "      <td>-41.800000</td>\n",
       "      <td>4.857000</td>\n",
       "      <td>5191.000000</td>\n",
       "    </tr>\n",
       "    <tr>\n",
       "      <th>75%</th>\n",
       "      <td>999.000000</td>\n",
       "      <td>0.000000</td>\n",
       "      <td>1.400000</td>\n",
       "      <td>93.994000</td>\n",
       "      <td>-36.400000</td>\n",
       "      <td>4.961000</td>\n",
       "      <td>5228.100000</td>\n",
       "    </tr>\n",
       "    <tr>\n",
       "      <th>max</th>\n",
       "      <td>999.000000</td>\n",
       "      <td>6.000000</td>\n",
       "      <td>1.400000</td>\n",
       "      <td>94.767000</td>\n",
       "      <td>-26.900000</td>\n",
       "      <td>5.045000</td>\n",
       "      <td>5228.100000</td>\n",
       "    </tr>\n",
       "  </tbody>\n",
       "</table>\n",
       "</div>"
      ],
      "text/plain": [
       "             pdays     previous  emp.var.rate  cons.price.idx  cons.conf.idx  \\\n",
       "count  4119.000000  4119.000000   4119.000000     4119.000000    4119.000000   \n",
       "mean    960.422190     0.190337      0.084972       93.579704     -40.499102   \n",
       "std     191.922786     0.541788      1.563114        0.579349       4.594578   \n",
       "min       0.000000     0.000000     -3.400000       92.201000     -50.800000   \n",
       "25%     999.000000     0.000000     -1.800000       93.075000     -42.700000   \n",
       "50%     999.000000     0.000000      1.100000       93.749000     -41.800000   \n",
       "75%     999.000000     0.000000      1.400000       93.994000     -36.400000   \n",
       "max     999.000000     6.000000      1.400000       94.767000     -26.900000   \n",
       "\n",
       "         euribor3m  nr.employed  \n",
       "count  4119.000000  4119.000000  \n",
       "mean      3.621356  5166.481695  \n",
       "std       1.733591    73.667904  \n",
       "min       0.635000  4963.600000  \n",
       "25%       1.334000  5099.100000  \n",
       "50%       4.857000  5191.000000  \n",
       "75%       4.961000  5228.100000  \n",
       "max       5.045000  5228.100000  "
      ]
     },
     "execution_count": 72,
     "metadata": {},
     "output_type": "execute_result"
    }
   ],
   "source": [
    "# Create X(data/feature variables)\n",
    "X_small = df_small.drop(\"y\", axis=1)\n",
    "X_small.describe()"
   ]
  },
  {
   "cell_type": "markdown",
   "metadata": {},
   "source": [
    "### convert categorical features into numeric features"
   ]
  },
  {
   "cell_type": "code",
   "execution_count": 73,
   "metadata": {},
   "outputs": [
    {
     "data": {
      "text/html": [
       "<div>\n",
       "<style scoped>\n",
       "    .dataframe tbody tr th:only-of-type {\n",
       "        vertical-align: middle;\n",
       "    }\n",
       "\n",
       "    .dataframe tbody tr th {\n",
       "        vertical-align: top;\n",
       "    }\n",
       "\n",
       "    .dataframe thead th {\n",
       "        text-align: right;\n",
       "    }\n",
       "</style>\n",
       "<table border=\"1\" class=\"dataframe\">\n",
       "  <thead>\n",
       "    <tr style=\"text-align: right;\">\n",
       "      <th></th>\n",
       "      <th>0</th>\n",
       "      <th>1</th>\n",
       "      <th>2</th>\n",
       "      <th>3</th>\n",
       "      <th>4</th>\n",
       "      <th>5</th>\n",
       "      <th>6</th>\n",
       "      <th>7</th>\n",
       "      <th>8</th>\n",
       "      <th>9</th>\n",
       "      <th>...</th>\n",
       "      <th>52</th>\n",
       "      <th>53</th>\n",
       "      <th>54</th>\n",
       "      <th>55</th>\n",
       "      <th>56</th>\n",
       "      <th>57</th>\n",
       "      <th>58</th>\n",
       "      <th>59</th>\n",
       "      <th>60</th>\n",
       "      <th>61</th>\n",
       "    </tr>\n",
       "  </thead>\n",
       "  <tbody>\n",
       "    <tr>\n",
       "      <th>0</th>\n",
       "      <td>0</td>\n",
       "      <td>1</td>\n",
       "      <td>0</td>\n",
       "      <td>0</td>\n",
       "      <td>0</td>\n",
       "      <td>0</td>\n",
       "      <td>0</td>\n",
       "      <td>0</td>\n",
       "      <td>0</td>\n",
       "      <td>0</td>\n",
       "      <td>...</td>\n",
       "      <td>0</td>\n",
       "      <td>30</td>\n",
       "      <td>2</td>\n",
       "      <td>999</td>\n",
       "      <td>0</td>\n",
       "      <td>-1.8</td>\n",
       "      <td>92.893</td>\n",
       "      <td>-46.2</td>\n",
       "      <td>1.313</td>\n",
       "      <td>5099.1</td>\n",
       "    </tr>\n",
       "    <tr>\n",
       "      <th>1</th>\n",
       "      <td>0</td>\n",
       "      <td>0</td>\n",
       "      <td>0</td>\n",
       "      <td>0</td>\n",
       "      <td>0</td>\n",
       "      <td>0</td>\n",
       "      <td>0</td>\n",
       "      <td>1</td>\n",
       "      <td>0</td>\n",
       "      <td>0</td>\n",
       "      <td>...</td>\n",
       "      <td>0</td>\n",
       "      <td>39</td>\n",
       "      <td>4</td>\n",
       "      <td>999</td>\n",
       "      <td>0</td>\n",
       "      <td>1.1</td>\n",
       "      <td>93.994</td>\n",
       "      <td>-36.4</td>\n",
       "      <td>4.855</td>\n",
       "      <td>5191</td>\n",
       "    </tr>\n",
       "    <tr>\n",
       "      <th>2</th>\n",
       "      <td>0</td>\n",
       "      <td>0</td>\n",
       "      <td>0</td>\n",
       "      <td>0</td>\n",
       "      <td>0</td>\n",
       "      <td>0</td>\n",
       "      <td>0</td>\n",
       "      <td>1</td>\n",
       "      <td>0</td>\n",
       "      <td>0</td>\n",
       "      <td>...</td>\n",
       "      <td>0</td>\n",
       "      <td>25</td>\n",
       "      <td>1</td>\n",
       "      <td>999</td>\n",
       "      <td>0</td>\n",
       "      <td>1.4</td>\n",
       "      <td>94.465</td>\n",
       "      <td>-41.8</td>\n",
       "      <td>4.962</td>\n",
       "      <td>5228.1</td>\n",
       "    </tr>\n",
       "    <tr>\n",
       "      <th>3</th>\n",
       "      <td>0</td>\n",
       "      <td>0</td>\n",
       "      <td>0</td>\n",
       "      <td>0</td>\n",
       "      <td>0</td>\n",
       "      <td>0</td>\n",
       "      <td>0</td>\n",
       "      <td>1</td>\n",
       "      <td>0</td>\n",
       "      <td>0</td>\n",
       "      <td>...</td>\n",
       "      <td>0</td>\n",
       "      <td>38</td>\n",
       "      <td>3</td>\n",
       "      <td>999</td>\n",
       "      <td>0</td>\n",
       "      <td>1.4</td>\n",
       "      <td>94.465</td>\n",
       "      <td>-41.8</td>\n",
       "      <td>4.959</td>\n",
       "      <td>5228.1</td>\n",
       "    </tr>\n",
       "    <tr>\n",
       "      <th>4</th>\n",
       "      <td>1</td>\n",
       "      <td>0</td>\n",
       "      <td>0</td>\n",
       "      <td>0</td>\n",
       "      <td>0</td>\n",
       "      <td>0</td>\n",
       "      <td>0</td>\n",
       "      <td>0</td>\n",
       "      <td>0</td>\n",
       "      <td>0</td>\n",
       "      <td>...</td>\n",
       "      <td>0</td>\n",
       "      <td>47</td>\n",
       "      <td>1</td>\n",
       "      <td>999</td>\n",
       "      <td>0</td>\n",
       "      <td>-0.1</td>\n",
       "      <td>93.2</td>\n",
       "      <td>-42</td>\n",
       "      <td>4.191</td>\n",
       "      <td>5195.8</td>\n",
       "    </tr>\n",
       "    <tr>\n",
       "      <th>...</th>\n",
       "      <td>...</td>\n",
       "      <td>...</td>\n",
       "      <td>...</td>\n",
       "      <td>...</td>\n",
       "      <td>...</td>\n",
       "      <td>...</td>\n",
       "      <td>...</td>\n",
       "      <td>...</td>\n",
       "      <td>...</td>\n",
       "      <td>...</td>\n",
       "      <td>...</td>\n",
       "      <td>...</td>\n",
       "      <td>...</td>\n",
       "      <td>...</td>\n",
       "      <td>...</td>\n",
       "      <td>...</td>\n",
       "      <td>...</td>\n",
       "      <td>...</td>\n",
       "      <td>...</td>\n",
       "      <td>...</td>\n",
       "      <td>...</td>\n",
       "    </tr>\n",
       "    <tr>\n",
       "      <th>4114</th>\n",
       "      <td>1</td>\n",
       "      <td>0</td>\n",
       "      <td>0</td>\n",
       "      <td>0</td>\n",
       "      <td>0</td>\n",
       "      <td>0</td>\n",
       "      <td>0</td>\n",
       "      <td>0</td>\n",
       "      <td>0</td>\n",
       "      <td>0</td>\n",
       "      <td>...</td>\n",
       "      <td>0</td>\n",
       "      <td>30</td>\n",
       "      <td>1</td>\n",
       "      <td>999</td>\n",
       "      <td>0</td>\n",
       "      <td>1.4</td>\n",
       "      <td>93.918</td>\n",
       "      <td>-42.7</td>\n",
       "      <td>4.958</td>\n",
       "      <td>5228.1</td>\n",
       "    </tr>\n",
       "    <tr>\n",
       "      <th>4115</th>\n",
       "      <td>1</td>\n",
       "      <td>0</td>\n",
       "      <td>0</td>\n",
       "      <td>0</td>\n",
       "      <td>0</td>\n",
       "      <td>0</td>\n",
       "      <td>0</td>\n",
       "      <td>0</td>\n",
       "      <td>0</td>\n",
       "      <td>0</td>\n",
       "      <td>...</td>\n",
       "      <td>0</td>\n",
       "      <td>39</td>\n",
       "      <td>1</td>\n",
       "      <td>999</td>\n",
       "      <td>0</td>\n",
       "      <td>1.4</td>\n",
       "      <td>93.918</td>\n",
       "      <td>-42.7</td>\n",
       "      <td>4.959</td>\n",
       "      <td>5228.1</td>\n",
       "    </tr>\n",
       "    <tr>\n",
       "      <th>4116</th>\n",
       "      <td>0</td>\n",
       "      <td>0</td>\n",
       "      <td>0</td>\n",
       "      <td>0</td>\n",
       "      <td>0</td>\n",
       "      <td>0</td>\n",
       "      <td>0</td>\n",
       "      <td>0</td>\n",
       "      <td>1</td>\n",
       "      <td>0</td>\n",
       "      <td>...</td>\n",
       "      <td>0</td>\n",
       "      <td>27</td>\n",
       "      <td>2</td>\n",
       "      <td>999</td>\n",
       "      <td>1</td>\n",
       "      <td>-1.8</td>\n",
       "      <td>92.893</td>\n",
       "      <td>-46.2</td>\n",
       "      <td>1.354</td>\n",
       "      <td>5099.1</td>\n",
       "    </tr>\n",
       "    <tr>\n",
       "      <th>4117</th>\n",
       "      <td>1</td>\n",
       "      <td>0</td>\n",
       "      <td>0</td>\n",
       "      <td>0</td>\n",
       "      <td>0</td>\n",
       "      <td>0</td>\n",
       "      <td>0</td>\n",
       "      <td>0</td>\n",
       "      <td>0</td>\n",
       "      <td>0</td>\n",
       "      <td>...</td>\n",
       "      <td>0</td>\n",
       "      <td>58</td>\n",
       "      <td>1</td>\n",
       "      <td>999</td>\n",
       "      <td>0</td>\n",
       "      <td>1.4</td>\n",
       "      <td>93.444</td>\n",
       "      <td>-36.1</td>\n",
       "      <td>4.966</td>\n",
       "      <td>5228.1</td>\n",
       "    </tr>\n",
       "    <tr>\n",
       "      <th>4118</th>\n",
       "      <td>0</td>\n",
       "      <td>0</td>\n",
       "      <td>0</td>\n",
       "      <td>0</td>\n",
       "      <td>1</td>\n",
       "      <td>0</td>\n",
       "      <td>0</td>\n",
       "      <td>0</td>\n",
       "      <td>0</td>\n",
       "      <td>0</td>\n",
       "      <td>...</td>\n",
       "      <td>0</td>\n",
       "      <td>34</td>\n",
       "      <td>1</td>\n",
       "      <td>999</td>\n",
       "      <td>0</td>\n",
       "      <td>-0.1</td>\n",
       "      <td>93.2</td>\n",
       "      <td>-42</td>\n",
       "      <td>4.12</td>\n",
       "      <td>5195.8</td>\n",
       "    </tr>\n",
       "  </tbody>\n",
       "</table>\n",
       "<p>4119 rows × 62 columns</p>\n",
       "</div>"
      ],
      "text/plain": [
       "     0  1  2  3  4  5  6  7  8  9   ... 52  53 54   55 56   57      58    59  \\\n",
       "0     0  1  0  0  0  0  0  0  0  0  ...  0  30  2  999  0 -1.8  92.893 -46.2   \n",
       "1     0  0  0  0  0  0  0  1  0  0  ...  0  39  4  999  0  1.1  93.994 -36.4   \n",
       "2     0  0  0  0  0  0  0  1  0  0  ...  0  25  1  999  0  1.4  94.465 -41.8   \n",
       "3     0  0  0  0  0  0  0  1  0  0  ...  0  38  3  999  0  1.4  94.465 -41.8   \n",
       "4     1  0  0  0  0  0  0  0  0  0  ...  0  47  1  999  0 -0.1    93.2   -42   \n",
       "...  .. .. .. .. .. .. .. .. .. ..  ... ..  .. ..  ... ..  ...     ...   ...   \n",
       "4114  1  0  0  0  0  0  0  0  0  0  ...  0  30  1  999  0  1.4  93.918 -42.7   \n",
       "4115  1  0  0  0  0  0  0  0  0  0  ...  0  39  1  999  0  1.4  93.918 -42.7   \n",
       "4116  0  0  0  0  0  0  0  0  1  0  ...  0  27  2  999  1 -1.8  92.893 -46.2   \n",
       "4117  1  0  0  0  0  0  0  0  0  0  ...  0  58  1  999  0  1.4  93.444 -36.1   \n",
       "4118  0  0  0  0  1  0  0  0  0  0  ...  0  34  1  999  0 -0.1    93.2   -42   \n",
       "\n",
       "         60      61  \n",
       "0     1.313  5099.1  \n",
       "1     4.855    5191  \n",
       "2     4.962  5228.1  \n",
       "3     4.959  5228.1  \n",
       "4     4.191  5195.8  \n",
       "...     ...     ...  \n",
       "4114  4.958  5228.1  \n",
       "4115  4.959  5228.1  \n",
       "4116  1.354  5099.1  \n",
       "4117  4.966  5228.1  \n",
       "4118   4.12  5195.8  \n",
       "\n",
       "[4119 rows x 62 columns]"
      ]
     },
     "execution_count": 73,
     "metadata": {},
     "output_type": "execute_result"
    }
   ],
   "source": [
    "categorical_features = ['job','marital','education', 'default', 'housing', 'loan', 'contact',\n",
    "        'month', 'day_of_week', 'poutcome'\n",
    "        ]\n",
    "one_hot = OneHotEncoder()\n",
    "transformer = ColumnTransformer([(\"one_hot\", one_hot, categorical_features)],\n",
    "                                remainder=\"passthrough\")\n",
    "transformed_X = transformer.fit_transform(X_small)\n",
    "pd.DataFrame(transformed_X)"
   ]
  },
  {
   "cell_type": "code",
   "execution_count": 74,
   "metadata": {},
   "outputs": [
    {
     "data": {
      "text/plain": [
       "count     4119\n",
       "unique       2\n",
       "top         no\n",
       "freq      3668\n",
       "Name: y, dtype: object"
      ]
     },
     "execution_count": 74,
     "metadata": {},
     "output_type": "execute_result"
    }
   ],
   "source": [
    "# Create Y(labels)\n",
    "y = df_small[\"y\"]\n",
    "#global_y=y\n",
    "y.describe()"
   ]
  },
  {
   "cell_type": "markdown",
   "metadata": {},
   "source": [
    "### Split the training and test data"
   ]
  },
  {
   "cell_type": "code",
   "execution_count": 75,
   "metadata": {},
   "outputs": [
    {
     "name": "stdout",
     "output_type": "stream",
     "text": [
      "X_Training data\n",
      " [[1.0 0.0 0.0 ... -36.1 4.965 5228.1]\n",
      " [0.0 1.0 0.0 ... -41.8 4.96 5228.1]\n",
      " [0.0 0.0 0.0 ... -31.4 0.883 5076.2]\n",
      " ...\n",
      " [0.0 1.0 0.0 ... -41.8 4.947 5228.1]\n",
      " [0.0 1.0 0.0 ... -42.7 4.963 5228.1]\n",
      " [0.0 0.0 0.0 ... -42.7 4.963 5228.1]]\n",
      "X_Test data\n",
      " [[0.0 0.0 0.0 ... -47.1 1.405 5099.1]\n",
      " [0.0 0.0 0.0 ... -42.0 4.0760000000000005 5195.8]\n",
      " [0.0 1.0 0.0 ... -41.8 4.961 5228.1]\n",
      " ...\n",
      " [1.0 0.0 0.0 ... -36.4 4.857 5191.0]\n",
      " [0.0 1.0 0.0 ... -42.7 4.96 5228.1]\n",
      " [0.0 0.0 0.0 ... -42.7 4.961 5228.1]]\n",
      "y_Training data\n",
      " 1082     no\n",
      "3860     no\n",
      "775      no\n",
      "4107     no\n",
      "3669    yes\n",
      "       ... \n",
      "1580     no\n",
      "321      no\n",
      "1590     no\n",
      "1361     no\n",
      "3085     no\n",
      "Name: y, Length: 2883, dtype: object\n",
      "y_Test data\n",
      " 3922     no\n",
      "3805     no\n",
      "1441     no\n",
      "1681    yes\n",
      "911      no\n",
      "       ... \n",
      "3431     no\n",
      "2022     no\n",
      "1048     no\n",
      "1401     no\n",
      "382      no\n",
      "Name: y, Length: 1236, dtype: object\n"
     ]
    }
   ],
   "source": [
    "X_train, X_test, y_train, y_test = train_test_split(transformed_X, y, test_size=0.3, shuffle=True)\n",
    "print(\"X_Training data\\n\", X_train)\n",
    "print(\"X_Test data\\n\", X_test)\n",
    "print(\"y_Training data\\n\", y_train)\n",
    "print(\"y_Test data\\n\",  y_test)"
   ]
  },
  {
   "cell_type": "markdown",
   "metadata": {},
   "source": [
    "### Fitting the algorithms"
   ]
  },
  {
   "cell_type": "markdown",
   "metadata": {},
   "source": [
    "#### Decision tree"
   ]
  },
  {
   "cell_type": "code",
   "execution_count": 76,
   "metadata": {},
   "outputs": [
    {
     "name": "stdout",
     "output_type": "stream",
     "text": [
      "Training time: 0.030002117156982422s\n"
     ]
    },
    {
     "data": {
      "text/plain": [
       "array(['no', 'yes', 'no', ..., 'no', 'no', 'no'], dtype=object)"
      ]
     },
     "execution_count": 76,
     "metadata": {},
     "output_type": "execute_result"
    }
   ],
   "source": [
    "start = time.time()\n",
    "clf.fit(X_train, y_train)\n",
    "stop = time.time()\n",
    "print(f\"Training time: {stop - start}s\")\n",
    "y_preds = clf.predict(X_test)\n",
    "y_preds"
   ]
  },
  {
   "cell_type": "markdown",
   "metadata": {},
   "source": [
    "#### Feature importances"
   ]
  },
  {
   "cell_type": "code",
   "execution_count": 77,
   "metadata": {},
   "outputs": [
    {
     "name": "stdout",
     "output_type": "stream",
     "text": [
      "Feature: 0, Score: 0.02413\n",
      "Feature: 1, Score: 0.00714\n",
      "Feature: 2, Score: 0.00651\n",
      "Feature: 3, Score: 0.00201\n",
      "Feature: 4, Score: 0.01415\n",
      "Feature: 5, Score: 0.00709\n",
      "Feature: 6, Score: 0.00254\n",
      "Feature: 7, Score: 0.00506\n",
      "Feature: 8, Score: 0.00128\n",
      "Feature: 9, Score: 0.01206\n",
      "Feature: 10, Score: 0.01291\n",
      "Feature: 11, Score: 0.00093\n",
      "Feature: 12, Score: 0.01166\n",
      "Feature: 13, Score: 0.01515\n",
      "Feature: 14, Score: 0.00527\n",
      "Feature: 15, Score: 0.00000\n",
      "Feature: 16, Score: 0.00519\n",
      "Feature: 17, Score: 0.00569\n",
      "Feature: 18, Score: 0.01637\n",
      "Feature: 19, Score: 0.01218\n",
      "Feature: 20, Score: 0.00000\n",
      "Feature: 21, Score: 0.01617\n",
      "Feature: 22, Score: 0.01212\n",
      "Feature: 23, Score: 0.00850\n",
      "Feature: 24, Score: 0.00666\n",
      "Feature: 25, Score: 0.01288\n",
      "Feature: 26, Score: 0.00000\n",
      "Feature: 27, Score: 0.01738\n",
      "Feature: 28, Score: 0.00506\n",
      "Feature: 29, Score: 0.01777\n",
      "Feature: 30, Score: 0.01221\n",
      "Feature: 31, Score: 0.00171\n",
      "Feature: 32, Score: 0.01241\n",
      "Feature: 33, Score: 0.00257\n",
      "Feature: 34, Score: 0.01337\n",
      "Feature: 35, Score: 0.00000\n",
      "Feature: 36, Score: 0.00487\n",
      "Feature: 37, Score: 0.00197\n",
      "Feature: 38, Score: 0.00000\n",
      "Feature: 39, Score: 0.00399\n",
      "Feature: 40, Score: 0.00709\n",
      "Feature: 41, Score: 0.00171\n",
      "Feature: 42, Score: 0.00171\n",
      "Feature: 43, Score: 0.01081\n",
      "Feature: 44, Score: 0.00482\n",
      "Feature: 45, Score: 0.01305\n",
      "Feature: 46, Score: 0.00409\n",
      "Feature: 47, Score: 0.02892\n",
      "Feature: 48, Score: 0.01348\n",
      "Feature: 49, Score: 0.00534\n",
      "Feature: 50, Score: 0.00449\n",
      "Feature: 51, Score: 0.00000\n",
      "Feature: 52, Score: 0.03327\n",
      "Feature: 53, Score: 0.15759\n",
      "Feature: 54, Score: 0.05554\n",
      "Feature: 55, Score: 0.01137\n",
      "Feature: 56, Score: 0.01721\n",
      "Feature: 57, Score: 0.00072\n",
      "Feature: 58, Score: 0.01564\n",
      "Feature: 59, Score: 0.01767\n",
      "Feature: 60, Score: 0.11380\n",
      "Feature: 61, Score: 0.16474\n"
     ]
    }
   ],
   "source": [
    "importance = clf.feature_importances_\n",
    "# summarize feature importance\n",
    "for i,v in enumerate(importance):\n",
    "    print('Feature: %0d, Score: %.5f' % (i,v))"
   ]
  },
  {
   "cell_type": "code",
   "execution_count": 78,
   "metadata": {},
   "outputs": [
    {
     "data": {
      "image/png": "[encoded data removed]",
      "text/plain": [
       "<Figure size 432x288 with 1 Axes>"
      ]
     },
     "metadata": {
      "needs_background": "light"
     },
     "output_type": "display_data"
    }
   ],
   "source": [
    "#Show the most important attributes\n",
    "from matplotlib import pyplot\n",
    "# plot feature importance\n",
    "pyplot.bar([x for x in range(len(importance))], importance)\n",
    "pyplot.show()"
   ]
  },
  {
   "cell_type": "markdown",
   "metadata": {},
   "source": [
    "#### Neural network"
   ]
  },
  {
   "cell_type": "code",
   "execution_count": 79,
   "metadata": {},
   "outputs": [
    {
     "name": "stdout",
     "output_type": "stream",
     "text": [
      "Training time: 1.2639334201812744s\n"
     ]
    },
    {
     "data": {
      "text/plain": [
       "array(['no', 'no', 'no', ..., 'no', 'no', 'no'], dtype='<U3')"
      ]
     },
     "execution_count": 79,
     "metadata": {},
     "output_type": "execute_result"
    }
   ],
   "source": [
    "start = time.time()\n",
    "mlp = MLPClassifier(random_state=1, max_iter=300).fit(X_train, y_train)\n",
    "stop = time.time()\n",
    "print(f\"Training time: {stop - start}s\")\n",
    "mlp.predict_proba(X_test)\n",
    "MLP_preds = mlp.predict(X_test)\n",
    "MLP_preds"
   ]
  },
  {
   "cell_type": "markdown",
   "metadata": {},
   "source": [
    "#### SVM"
   ]
  },
  {
   "cell_type": "code",
   "execution_count": 80,
   "metadata": {},
   "outputs": [
    {
     "name": "stdout",
     "output_type": "stream",
     "text": [
      "Training time: 0.20588135719299316s\n"
     ]
    },
    {
     "data": {
      "text/plain": [
       "array(['no', 'no', 'no', ..., 'no', 'no', 'no'], dtype=object)"
      ]
     },
     "execution_count": 80,
     "metadata": {},
     "output_type": "execute_result"
    }
   ],
   "source": [
    "svm_clf = svm.SVC()\n",
    "start = time.time()\n",
    "svm_clf.fit(X_train, y_train)\n",
    "stop = time.time()\n",
    "print(f\"Training time: {stop - start}s\")\n",
    "SVC_preds = svm_clf.predict(X_test)\n",
    "SVC_preds"
   ]
  },
  {
   "cell_type": "markdown",
   "metadata": {},
   "source": [
    "#### KNN"
   ]
  },
  {
   "cell_type": "code",
   "execution_count": 81,
   "metadata": {},
   "outputs": [],
   "source": [
    "start3 = time.time()\n",
    "neigh_3.fit(X_train, y_train)\n",
    "stop3 = time.time()\n",
    "start20 = time.time()\n",
    "neigh_20.fit(X_train, y_train)\n",
    "stop20 = time.time()\n",
    "start30 = time.time()\n",
    "neigh_30.fit(X_train, y_train)\n",
    "stop30 = time.time()\n",
    "start40 = time.time()\n",
    "neigh_40.fit(X_train, y_train)\n",
    "stop40 = time.time()"
   ]
  },
  {
   "cell_type": "code",
   "execution_count": 82,
   "metadata": {},
   "outputs": [
    {
     "name": "stdout",
     "output_type": "stream",
     "text": [
      "KNN with 3 neighbours ['no' 'no' 'no' ... 'no' 'no' 'yes']\n",
      "Training time: 0.060944318771362305s\n"
     ]
    }
   ],
   "source": [
    "print(\"KNN with 3 neighbours\",neigh_3.predict(X_test))\n",
    "print(f\"Training time: {stop3 - start3}s\")\n",
    "KNN_3_preds = neigh_3.predict(X_test)"
   ]
  },
  {
   "cell_type": "code",
   "execution_count": 83,
   "metadata": {},
   "outputs": [
    {
     "name": "stdout",
     "output_type": "stream",
     "text": [
      "KNN with 20 neighbours ['no' 'no' 'no' ... 'no' 'no' 'no']\n",
      "Training time: 0.0779571533203125s\n"
     ]
    }
   ],
   "source": [
    "print(\"KNN with 20 neighbours\",neigh_20.predict(X_test))\n",
    "print(f\"Training time: {stop20 - start20}s\")\n",
    "KNN_20_preds = neigh_20.predict(X_test)"
   ]
  },
  {
   "cell_type": "code",
   "execution_count": 84,
   "metadata": {},
   "outputs": [
    {
     "name": "stdout",
     "output_type": "stream",
     "text": [
      "KNN with 30 neighbours ['no' 'no' 'no' ... 'no' 'no' 'no']\n",
      "Training time: 0.08295154571533203s\n"
     ]
    }
   ],
   "source": [
    "print(\"KNN with 30 neighbours\",neigh_30.predict(X_test))\n",
    "print(f\"Training time: {stop30 - start30}s\")\n",
    "KNN_30_preds = neigh_30.predict(X_test)"
   ]
  },
  {
   "cell_type": "code",
   "execution_count": 85,
   "metadata": {},
   "outputs": [
    {
     "name": "stdout",
     "output_type": "stream",
     "text": [
      "KNN with 40 neighbours ['no' 'no' 'no' ... 'no' 'no' 'no']\n",
      "Training time: 0.07195878028869629s\n"
     ]
    }
   ],
   "source": [
    "print(\"KNN with 40 neighbours\",neigh_40.predict(X_test))\n",
    "print(f\"Training time: {stop40 - start40}s\")\n",
    "KNN_40_preds = neigh_40.predict(X_test)"
   ]
  },
  {
   "cell_type": "markdown",
   "metadata": {},
   "source": [
    "## Evaluating the models' perfomance"
   ]
  },
  {
   "cell_type": "markdown",
   "metadata": {},
   "source": [
    "#### Decision tree"
   ]
  },
  {
   "cell_type": "code",
   "execution_count": 86,
   "metadata": {},
   "outputs": [
    {
     "data": {
      "text/plain": [
       "0.8406148867313916"
      ]
     },
     "execution_count": 86,
     "metadata": {},
     "output_type": "execute_result"
    }
   ],
   "source": [
    "# evaluate perfomance on test data\n",
    "clf.score(X_test, y_test)\n"
   ]
  },
  {
   "cell_type": "code",
   "execution_count": 87,
   "metadata": {},
   "outputs": [
    {
     "name": "stdout",
     "output_type": "stream",
     "text": [
      "RMS error: 0.39923065171478056\n",
      "ROC area: 0.609587518066931\n"
     ]
    }
   ],
   "source": [
    "y_test_float = lb.fit_transform(y_test)\n",
    "y_preds_float = lb.fit_transform(y_preds)\n",
    "#RMS error\n",
    "print(f\"RMS error: {mean_squared_error(y_test_float, y_preds_float, squared=False)}\")\n",
    "#ROC area\n",
    "print(f\"ROC area: {roc_auc_score(y_test_float, y_preds_float)}\")"
   ]
  },
  {
   "cell_type": "code",
   "execution_count": 88,
   "metadata": {},
   "outputs": [
    {
     "name": "stdout",
     "output_type": "stream",
     "text": [
      "              precision    recall  f1-score   support\n",
      "\n",
      "          no       0.92      0.90      0.91      1115\n",
      "         yes       0.25      0.32      0.28       121\n",
      "\n",
      "    accuracy                           0.84      1236\n",
      "   macro avg       0.59      0.61      0.60      1236\n",
      "weighted avg       0.86      0.84      0.85      1236\n",
      "\n"
     ]
    }
   ],
   "source": [
    "#classification report\n",
    "print(classification_report(y_test, y_preds))"
   ]
  },
  {
   "cell_type": "code",
   "execution_count": 89,
   "metadata": {},
   "outputs": [
    {
     "data": {
      "text/plain": [
       "array([[1000,  115],\n",
       "       [  82,   39]], dtype=int64)"
      ]
     },
     "execution_count": 89,
     "metadata": {},
     "output_type": "execute_result"
    }
   ],
   "source": [
    "#confusion matrix\n",
    "confusion_matrix(y_test, y_preds)"
   ]
  },
  {
   "cell_type": "code",
   "execution_count": 90,
   "metadata": {},
   "outputs": [
    {
     "name": "stdout",
     "output_type": "stream",
     "text": [
      "DecisionTreeClassifier 0.8406148867313916\n",
      "Classification Report for DecisionTreeClassifier\n",
      "              precision    recall  f1-score   support\n",
      "\n",
      "          no       0.92      0.90      0.91      1115\n",
      "         yes       0.25      0.32      0.28       121\n",
      "\n",
      "    accuracy                           0.84      1236\n",
      "   macro avg       0.59      0.61      0.60      1236\n",
      "weighted avg       0.86      0.84      0.85      1236\n",
      "\n",
      "************************************************************\n",
      "the model is 84.06% accurate\n"
     ]
    }
   ],
   "source": [
    "# accuracy score\n",
    "#Decision tree\n",
    "print(clf.__class__.__name__, accuracy_score(y_test, y_preds))\n",
    "print(f'Classification Report for {clf.__class__.__name__}')\n",
    "print(classification_report(y_test, y_preds))\n",
    "print('*'*60)\n",
    "print(f\"the model is {accuracy_score(y_test, y_preds)*100:.2f}% accurate\")"
   ]
  },
  {
   "cell_type": "markdown",
   "metadata": {},
   "source": [
    "### KNN"
   ]
  },
  {
   "cell_type": "code",
   "execution_count": 91,
   "metadata": {},
   "outputs": [
    {
     "data": {
      "text/plain": [
       "0.8948220064724919"
      ]
     },
     "execution_count": 91,
     "metadata": {},
     "output_type": "execute_result"
    }
   ],
   "source": [
    "neigh_3.score(X_test, y_test)"
   ]
  },
  {
   "cell_type": "code",
   "execution_count": 92,
   "metadata": {},
   "outputs": [
    {
     "data": {
      "text/plain": [
       "0.9110032362459547"
      ]
     },
     "execution_count": 92,
     "metadata": {},
     "output_type": "execute_result"
    }
   ],
   "source": [
    "neigh_20.score(X_test, y_test)"
   ]
  },
  {
   "cell_type": "code",
   "execution_count": 93,
   "metadata": {},
   "outputs": [
    {
     "data": {
      "text/plain": [
       "0.9061488673139159"
      ]
     },
     "execution_count": 93,
     "metadata": {},
     "output_type": "execute_result"
    }
   ],
   "source": [
    "neigh_30.score(X_test, y_test)"
   ]
  },
  {
   "cell_type": "code",
   "execution_count": 94,
   "metadata": {},
   "outputs": [
    {
     "data": {
      "text/plain": [
       "0.9061488673139159"
      ]
     },
     "execution_count": 94,
     "metadata": {},
     "output_type": "execute_result"
    }
   ],
   "source": [
    "neigh_40.score(X_test, y_test)"
   ]
  },
  {
   "cell_type": "code",
   "execution_count": 95,
   "metadata": {},
   "outputs": [
    {
     "name": "stdout",
     "output_type": "stream",
     "text": [
      "RMS error: 0.3243115685995615\n",
      "ROC area: 0.6212133565578326\n"
     ]
    }
   ],
   "source": [
    "KNN_3_preds_float = lb.fit_transform(KNN_3_preds)\n",
    "#RMS error\n",
    "print(f\"RMS error: {mean_squared_error(y_test_float, KNN_3_preds_float, squared=False)}\")\n",
    "#ROC area\n",
    "print(f\"ROC area: {roc_auc_score(y_test_float, KNN_3_preds_float)}\")"
   ]
  },
  {
   "cell_type": "code",
   "execution_count": 96,
   "metadata": {},
   "outputs": [
    {
     "name": "stdout",
     "output_type": "stream",
     "text": [
      "              precision    recall  f1-score   support\n",
      "\n",
      "          no       0.92      0.96      0.94      1115\n",
      "         yes       0.44      0.28      0.34       121\n",
      "\n",
      "    accuracy                           0.89      1236\n",
      "   macro avg       0.68      0.62      0.64      1236\n",
      "weighted avg       0.88      0.89      0.88      1236\n",
      "\n"
     ]
    }
   ],
   "source": [
    "#classification report\n",
    "print(classification_report(y_test, KNN_3_preds))"
   ]
  },
  {
   "cell_type": "code",
   "execution_count": 97,
   "metadata": {},
   "outputs": [
    {
     "name": "stdout",
     "output_type": "stream",
     "text": [
      "RMS error: 0.2983232537936748\n",
      "ROC area: 0.5896601563947671\n"
     ]
    }
   ],
   "source": [
    "KNN_20_preds_float = lb.fit_transform(KNN_20_preds)\n",
    "#RMS error\n",
    "print(f\"RMS error: {mean_squared_error(y_test_float, KNN_20_preds_float, squared=False)}\")\n",
    "#ROC area\n",
    "print(f\"ROC area: {roc_auc_score(y_test_float, KNN_20_preds_float)}\")"
   ]
  },
  {
   "cell_type": "code",
   "execution_count": 98,
   "metadata": {},
   "outputs": [
    {
     "name": "stdout",
     "output_type": "stream",
     "text": [
      "              precision    recall  f1-score   support\n",
      "\n",
      "          no       0.92      0.99      0.95      1115\n",
      "         yes       0.66      0.19      0.29       121\n",
      "\n",
      "    accuracy                           0.91      1236\n",
      "   macro avg       0.79      0.59      0.62      1236\n",
      "weighted avg       0.89      0.91      0.89      1236\n",
      "\n"
     ]
    }
   ],
   "source": [
    "#classification report\n",
    "print(classification_report(y_test, KNN_20_preds))"
   ]
  },
  {
   "cell_type": "code",
   "execution_count": 99,
   "metadata": {},
   "outputs": [
    {
     "name": "stdout",
     "output_type": "stream",
     "text": [
      "RMS error: 0.3063513223181583\n",
      "ROC area: 0.594337175258496\n"
     ]
    }
   ],
   "source": [
    "KNN_30_preds_float = lb.fit_transform(KNN_30_preds)\n",
    "#RMS error\n",
    "print(f\"RMS error: {mean_squared_error(y_test_float, KNN_30_preds_float, squared=False)}\")\n",
    "#ROC area\n",
    "print(f\"ROC area: {roc_auc_score(y_test_float, KNN_30_preds_float)}\")"
   ]
  },
  {
   "cell_type": "code",
   "execution_count": 100,
   "metadata": {},
   "outputs": [
    {
     "name": "stdout",
     "output_type": "stream",
     "text": [
      "              precision    recall  f1-score   support\n",
      "\n",
      "          no       0.92      0.98      0.95      1115\n",
      "         yes       0.56      0.21      0.30       121\n",
      "\n",
      "    accuracy                           0.91      1236\n",
      "   macro avg       0.74      0.59      0.63      1236\n",
      "weighted avg       0.88      0.91      0.89      1236\n",
      "\n"
     ]
    }
   ],
   "source": [
    "#classification report\n",
    "print(classification_report(y_test, KNN_30_preds))"
   ]
  },
  {
   "cell_type": "code",
   "execution_count": 101,
   "metadata": {},
   "outputs": [
    {
     "name": "stdout",
     "output_type": "stream",
     "text": [
      "RMS error: 0.3063513223181583\n",
      "ROC area: 0.5980209761701811\n"
     ]
    }
   ],
   "source": [
    "KNN_40_preds_float = lb.fit_transform(KNN_40_preds)\n",
    "#RMS error\n",
    "print(f\"RMS error: {mean_squared_error(y_test_float, KNN_40_preds_float, squared=False)}\")\n",
    "#ROC area\n",
    "print(f\"ROC area: {roc_auc_score(y_test_float, KNN_40_preds_float)}\")"
   ]
  },
  {
   "cell_type": "code",
   "execution_count": 102,
   "metadata": {},
   "outputs": [
    {
     "name": "stdout",
     "output_type": "stream",
     "text": [
      "              precision    recall  f1-score   support\n",
      "\n",
      "          no       0.92      0.98      0.95      1115\n",
      "         yes       0.55      0.21      0.31       121\n",
      "\n",
      "    accuracy                           0.91      1236\n",
      "   macro avg       0.74      0.60      0.63      1236\n",
      "weighted avg       0.88      0.91      0.89      1236\n",
      "\n"
     ]
    }
   ],
   "source": [
    "#classification report\n",
    "print(classification_report(y_test, KNN_40_preds))"
   ]
  },
  {
   "cell_type": "code",
   "execution_count": 103,
   "metadata": {},
   "outputs": [
    {
     "data": {
      "text/plain": [
       "array([[1072,   43],\n",
       "       [  87,   34]], dtype=int64)"
      ]
     },
     "execution_count": 103,
     "metadata": {},
     "output_type": "execute_result"
    }
   ],
   "source": [
    "#confusion matrix\n",
    "confusion_matrix(y_test, KNN_3_preds)"
   ]
  },
  {
   "cell_type": "code",
   "execution_count": 104,
   "metadata": {},
   "outputs": [
    {
     "data": {
      "text/plain": [
       "array([[1103,   12],\n",
       "       [  98,   23]], dtype=int64)"
      ]
     },
     "execution_count": 104,
     "metadata": {},
     "output_type": "execute_result"
    }
   ],
   "source": [
    "#confusion matrix\n",
    "confusion_matrix(y_test, KNN_20_preds)"
   ]
  },
  {
   "cell_type": "code",
   "execution_count": 105,
   "metadata": {},
   "outputs": [
    {
     "data": {
      "text/plain": [
       "array([[1095,   20],\n",
       "       [  96,   25]], dtype=int64)"
      ]
     },
     "execution_count": 105,
     "metadata": {},
     "output_type": "execute_result"
    }
   ],
   "source": [
    "#confusion matrix\n",
    "confusion_matrix(y_test, KNN_30_preds)"
   ]
  },
  {
   "cell_type": "code",
   "execution_count": 106,
   "metadata": {},
   "outputs": [
    {
     "data": {
      "text/plain": [
       "array([[1094,   21],\n",
       "       [  95,   26]], dtype=int64)"
      ]
     },
     "execution_count": 106,
     "metadata": {},
     "output_type": "execute_result"
    }
   ],
   "source": [
    "#confusion matrix\n",
    "confusion_matrix(y_test, KNN_40_preds)"
   ]
  },
  {
   "cell_type": "code",
   "execution_count": 107,
   "metadata": {},
   "outputs": [
    {
     "name": "stdout",
     "output_type": "stream",
     "text": [
      "KNeighborsClassifier 0.8948220064724919\n",
      "Classification Report for KNeighborsClassifier\n",
      "              precision    recall  f1-score   support\n",
      "\n",
      "          no       0.92      0.96      0.94      1115\n",
      "         yes       0.44      0.28      0.34       121\n",
      "\n",
      "    accuracy                           0.89      1236\n",
      "   macro avg       0.68      0.62      0.64      1236\n",
      "weighted avg       0.88      0.89      0.88      1236\n",
      "\n",
      "************************************************************\n",
      "the KNN model is 89.48% accurate\n"
     ]
    }
   ],
   "source": [
    "# accuracy score\n",
    "#KNN with 3 neighbors\n",
    "print(neigh_3.__class__.__name__, accuracy_score(y_test, KNN_3_preds))\n",
    "print(f'Classification Report for {neigh_3.__class__.__name__}')\n",
    "print(classification_report(y_test, KNN_3_preds))\n",
    "print('*'*60)\n",
    "print(f\"the KNN model is {accuracy_score(y_test, KNN_3_preds)*100:.2f}% accurate\")"
   ]
  },
  {
   "cell_type": "code",
   "execution_count": 108,
   "metadata": {},
   "outputs": [
    {
     "name": "stdout",
     "output_type": "stream",
     "text": [
      "KNeighborsClassifier 0.9110032362459547\n",
      "Classification Report for KNeighborsClassifier\n",
      "              precision    recall  f1-score   support\n",
      "\n",
      "          no       0.92      0.99      0.95      1115\n",
      "         yes       0.66      0.19      0.29       121\n",
      "\n",
      "    accuracy                           0.91      1236\n",
      "   macro avg       0.79      0.59      0.62      1236\n",
      "weighted avg       0.89      0.91      0.89      1236\n",
      "\n",
      "************************************************************\n",
      "the KNN model is 91.10% accurate\n"
     ]
    }
   ],
   "source": [
    "# accuracy score\n",
    "#KNN with 20 neighbors\n",
    "print(neigh_20.__class__.__name__, accuracy_score(y_test, KNN_20_preds))\n",
    "print(f'Classification Report for {neigh_20.__class__.__name__}')\n",
    "print(classification_report(y_test, KNN_20_preds))\n",
    "print('*'*60)\n",
    "print(f\"the KNN model is {accuracy_score(y_test, KNN_20_preds)*100:.2f}% accurate\")"
   ]
  },
  {
   "cell_type": "code",
   "execution_count": 109,
   "metadata": {},
   "outputs": [
    {
     "name": "stdout",
     "output_type": "stream",
     "text": [
      "KNeighborsClassifier 0.9061488673139159\n",
      "Classification Report for KNeighborsClassifier\n",
      "              precision    recall  f1-score   support\n",
      "\n",
      "          no       0.92      0.98      0.95      1115\n",
      "         yes       0.56      0.21      0.30       121\n",
      "\n",
      "    accuracy                           0.91      1236\n",
      "   macro avg       0.74      0.59      0.63      1236\n",
      "weighted avg       0.88      0.91      0.89      1236\n",
      "\n",
      "************************************************************\n",
      "the KNN model is 90.61% accurate\n"
     ]
    }
   ],
   "source": [
    "# accuracy score\n",
    "#KNN with 30 neighbors\n",
    "print(neigh_30.__class__.__name__, accuracy_score(y_test, KNN_30_preds))\n",
    "print(f'Classification Report for {neigh_30.__class__.__name__}')\n",
    "print(classification_report(y_test, KNN_30_preds))\n",
    "print('*'*60)\n",
    "print(f\"the KNN model is {accuracy_score(y_test, KNN_30_preds)*100:.2f}% accurate\")"
   ]
  },
  {
   "cell_type": "code",
   "execution_count": 110,
   "metadata": {},
   "outputs": [
    {
     "name": "stdout",
     "output_type": "stream",
     "text": [
      "KNeighborsClassifier 0.9061488673139159\n",
      "Classification Report for KNeighborsClassifier\n",
      "              precision    recall  f1-score   support\n",
      "\n",
      "          no       0.92      0.98      0.95      1115\n",
      "         yes       0.55      0.21      0.31       121\n",
      "\n",
      "    accuracy                           0.91      1236\n",
      "   macro avg       0.74      0.60      0.63      1236\n",
      "weighted avg       0.88      0.91      0.89      1236\n",
      "\n",
      "************************************************************\n",
      "the KNN model is 90.61% accurate\n"
     ]
    }
   ],
   "source": [
    "# accuracy score\n",
    "#KNN with 40 neighbors\n",
    "print(neigh_40.__class__.__name__, accuracy_score(y_test, KNN_40_preds))\n",
    "print(f'Classification Report for {neigh_40.__class__.__name__}')\n",
    "print(classification_report(y_test, KNN_40_preds))\n",
    "print('*'*60)\n",
    "print(f\"the KNN model is {accuracy_score(y_test, KNN_40_preds)*100:.2f}% accurate\")"
   ]
  },
  {
   "cell_type": "markdown",
   "metadata": {},
   "source": [
    "### Neural network"
   ]
  },
  {
   "cell_type": "code",
   "execution_count": 111,
   "metadata": {},
   "outputs": [
    {
     "data": {
      "text/plain": [
       "0.9110032362459547"
      ]
     },
     "execution_count": 111,
     "metadata": {},
     "output_type": "execute_result"
    }
   ],
   "source": [
    "mlp.score(X_test, y_test)"
   ]
  },
  {
   "cell_type": "code",
   "execution_count": 112,
   "metadata": {},
   "outputs": [
    {
     "name": "stdout",
     "output_type": "stream",
     "text": [
      "RMS error: 0.2983232537936748\n",
      "ROC area: 0.5933439573064523\n"
     ]
    }
   ],
   "source": [
    "mlp_preds_float = lb.fit_transform(MLP_preds)\n",
    "#RMS error\n",
    "print(f\"RMS error: {mean_squared_error(y_test_float, mlp_preds_float, squared=False)}\")\n",
    "#ROC area\n",
    "print(f\"ROC area: {roc_auc_score(y_test_float, mlp_preds_float)}\")"
   ]
  },
  {
   "cell_type": "code",
   "execution_count": 113,
   "metadata": {},
   "outputs": [
    {
     "name": "stdout",
     "output_type": "stream",
     "text": [
      "              precision    recall  f1-score   support\n",
      "\n",
      "          no       0.92      0.99      0.95      1115\n",
      "         yes       0.65      0.20      0.30       121\n",
      "\n",
      "    accuracy                           0.91      1236\n",
      "   macro avg       0.78      0.59      0.63      1236\n",
      "weighted avg       0.89      0.91      0.89      1236\n",
      "\n"
     ]
    }
   ],
   "source": [
    "#classification report\n",
    "print(classification_report(y_test, MLP_preds))"
   ]
  },
  {
   "cell_type": "code",
   "execution_count": 114,
   "metadata": {},
   "outputs": [
    {
     "data": {
      "text/plain": [
       "array([[1102,   13],\n",
       "       [  97,   24]], dtype=int64)"
      ]
     },
     "execution_count": 114,
     "metadata": {},
     "output_type": "execute_result"
    }
   ],
   "source": [
    "#confusion matrix\n",
    "confusion_matrix(y_test, MLP_preds)"
   ]
  },
  {
   "cell_type": "code",
   "execution_count": 115,
   "metadata": {},
   "outputs": [
    {
     "name": "stdout",
     "output_type": "stream",
     "text": [
      "MLPClassifier 0.9110032362459547\n",
      "Classification Report for MLPClassifier\n",
      "              precision    recall  f1-score   support\n",
      "\n",
      "          no       0.92      0.99      0.95      1115\n",
      "         yes       0.65      0.20      0.30       121\n",
      "\n",
      "    accuracy                           0.91      1236\n",
      "   macro avg       0.78      0.59      0.63      1236\n",
      "weighted avg       0.89      0.91      0.89      1236\n",
      "\n",
      "************************************************************\n",
      "the Neural net model is 91.10% accurate\n"
     ]
    }
   ],
   "source": [
    "# accuracy score\n",
    "#Neural networks\n",
    "print(mlp.__class__.__name__, accuracy_score(y_test, MLP_preds))\n",
    "print(f'Classification Report for {mlp.__class__.__name__}')\n",
    "print(classification_report(y_test, MLP_preds))\n",
    "print('*'*60)\n",
    "print(f\"the Neural net model is {accuracy_score(y_test, MLP_preds)*100:.2f}% accurate\")"
   ]
  },
  {
   "cell_type": "markdown",
   "metadata": {},
   "source": [
    "## SVM"
   ]
  },
  {
   "cell_type": "code",
   "execution_count": 116,
   "metadata": {},
   "outputs": [
    {
     "data": {
      "text/plain": [
       "0.9061488673139159"
      ]
     },
     "execution_count": 116,
     "metadata": {},
     "output_type": "execute_result"
    }
   ],
   "source": [
    "svm_clf.score(X_test, y_test)"
   ]
  },
  {
   "cell_type": "code",
   "execution_count": 117,
   "metadata": {},
   "outputs": [
    {
     "name": "stdout",
     "output_type": "stream",
     "text": [
      "RMS error: 0.3063513223181583\n",
      "ROC area: 0.5980209761701811\n"
     ]
    }
   ],
   "source": [
    "SVC_preds_float = lb.fit_transform(SVC_preds)\n",
    "#RMS error\n",
    "print(f\"RMS error: {mean_squared_error(y_test_float, SVC_preds_float, squared=False)}\")\n",
    "#ROC area\n",
    "print(f\"ROC area: {roc_auc_score(y_test_float, SVC_preds_float)}\")"
   ]
  },
  {
   "cell_type": "code",
   "execution_count": 118,
   "metadata": {},
   "outputs": [
    {
     "name": "stdout",
     "output_type": "stream",
     "text": [
      "              precision    recall  f1-score   support\n",
      "\n",
      "          no       0.92      0.98      0.95      1115\n",
      "         yes       0.55      0.21      0.31       121\n",
      "\n",
      "    accuracy                           0.91      1236\n",
      "   macro avg       0.74      0.60      0.63      1236\n",
      "weighted avg       0.88      0.91      0.89      1236\n",
      "\n"
     ]
    }
   ],
   "source": [
    "#classification report\n",
    "print(classification_report(y_test, SVC_preds))"
   ]
  },
  {
   "cell_type": "code",
   "execution_count": 119,
   "metadata": {},
   "outputs": [
    {
     "data": {
      "text/plain": [
       "array([[1094,   21],\n",
       "       [  95,   26]], dtype=int64)"
      ]
     },
     "execution_count": 119,
     "metadata": {},
     "output_type": "execute_result"
    }
   ],
   "source": [
    "#confusion matrix\n",
    "confusion_matrix(y_test, SVC_preds)"
   ]
  },
  {
   "cell_type": "code",
   "execution_count": 120,
   "metadata": {},
   "outputs": [
    {
     "name": "stdout",
     "output_type": "stream",
     "text": [
      "SVC 0.9061488673139159\n",
      "Classification Report for SVC\n",
      "              precision    recall  f1-score   support\n",
      "\n",
      "          no       0.92      0.98      0.95      1115\n",
      "         yes       0.55      0.21      0.31       121\n",
      "\n",
      "    accuracy                           0.91      1236\n",
      "   macro avg       0.74      0.60      0.63      1236\n",
      "weighted avg       0.88      0.91      0.89      1236\n",
      "\n",
      "************************************************************\n",
      "the Neural net model is 90.61% accurate\n"
     ]
    }
   ],
   "source": [
    "# accuracy score\n",
    "#Neural networks\n",
    "print(svm_clf.__class__.__name__, accuracy_score(y_test, SVC_preds))\n",
    "print(f'Classification Report for {svm_clf.__class__.__name__}')\n",
    "print(classification_report(y_test, SVC_preds))\n",
    "print('*'*60)\n",
    "print(f\"the Neural net model is {accuracy_score(y_test, SVC_preds)*100:.2f}% accurate\")"
   ]
  },
  {
   "cell_type": "markdown",
   "metadata": {},
   "source": [
    "## Summary"
   ]
  },
  {
   "cell_type": "markdown",
   "metadata": {},
   "source": [
    "NN is the advised modeling technique, producing the best TPR and FPR trade-off within most of the sensitive range. In effect, NN outperforms the SVM model for the sample size ranges of [0.06;0.24] and [0.27;0.99], presenting an average difference of 2 people within the range [0.27:0.9].\n",
    "\n",
    "Probability of success decreases by 10 people when the Euribor rate is higher than 0.73. A study attributed this to the 2008 wallstreet crash. Prior to 2008 a weak positive relation could be observed between offered rate for deposits and savings rate, after 2008, with the financial crisis, that relation reversed, turning clients more prone to savings while the Euribor constantly decreased.\n",
    "\n",
    "The financial crisis changed the way the Euribor affects savings rate, turning clients more likely to perform savings while Euribor decreased. Moreover, inbound calls and an increase in other highly relevant attributes (i.e., difference in best possible rate, agent experience or duration of previous calls), enhance the probability for a successful deposit sell."
   ]
  },
  {
   "cell_type": "code",
   "execution_count": null,
   "metadata": {},
   "outputs": [],
   "source": []
  }
 ],
 "metadata": {
  "kernelspec": {
   "display_name": "Python 3",
   "language": "python",
   "name": "python3"
  },
  "language_info": {
   "codemirror_mode": {
    "name": "ipython",
    "version": 3
   },
   "file_extension": ".py",
   "mimetype": "text/x-python",
   "name": "python",
   "nbconvert_exporter": "python",
   "pygments_lexer": "ipython3",
   "version": "3.7.6"
  }
 },
 "nbformat": 4,
 "nbformat_minor": 4
}
